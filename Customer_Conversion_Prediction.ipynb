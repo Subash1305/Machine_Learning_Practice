{
  "nbformat": 4,
  "nbformat_minor": 0,
  "metadata": {
    "colab": {
      "provenance": [],
      "authorship_tag": "ABX9TyPjhk0KdibVoYpueqrxGGDH",
      "include_colab_link": true
    },
    "kernelspec": {
      "name": "python3",
      "display_name": "Python 3"
    },
    "language_info": {
      "name": "python"
    }
  },
  "cells": [
    {
      "cell_type": "markdown",
      "metadata": {
        "id": "view-in-github",
        "colab_type": "text"
      },
      "source": [
        "<a href=\"https://colab.research.google.com/github/Subash1305/Machine_Learning_Practice/blob/main/Customer_Conversion_Prediction.ipynb\" target=\"_parent\"><img src=\"https://colab.research.google.com/assets/colab-badge.svg\" alt=\"Open In Colab\"/></a>"
      ]
    },
    {
      "cell_type": "markdown",
      "source": [
        "# Customer_Convertion_Prediction_Problem_Statement"
      ],
      "metadata": {
        "id": "3NWA1fTWg5AJ"
      }
    },
    {
      "cell_type": "markdown",
      "source": [
        "# Importing all the required packages"
      ],
      "metadata": {
        "id": "7iNDlS8ulnic"
      }
    },
    {
      "cell_type": "code",
      "execution_count": 1,
      "metadata": {
        "id": "gZUb4MH3gEys"
      },
      "outputs": [],
      "source": [
        "#importing the required package\n",
        "\n",
        "import pandas as pd  # read the dataset\n",
        "\n",
        "import numpy as np  # to handle the arrays\n",
        "\n",
        "import warnings\n",
        "\n",
        "warnings.simplefilter(action = 'ignore' , category = FutureWarning)\n",
        "\n",
        "from sklearn.tree import DecisionTreeClassifier\n",
        "\n",
        "from sklearn.metrics import accuracy_score, plot_roc_curve, confusion_matrix, f1_score, roc_auc_score\n",
        "\n",
        "from sklearn import metrics\n",
        "\n",
        "import seaborn as sns # plotting the data\n",
        "\n",
        "import matplotlib.pyplot as plt # plotting the data"
      ]
    },
    {
      "cell_type": "code",
      "source": [
        "df = pd.read_csv('Final.csv')  # reading the dataset\n",
        "\n",
        "df.head()  # viewing the 1st five row of the dataset"
      ],
      "metadata": {
        "colab": {
          "base_uri": "https://localhost:8080/",
          "height": 206
        },
        "id": "3fzZEb2OgMiD",
        "outputId": "07e35bdd-e0cf-452f-fab7-e20bcf2a58d3"
      },
      "execution_count": 2,
      "outputs": [
        {
          "output_type": "execute_result",
          "data": {
            "text/plain": [
              "   age           job  marital education_qual call_type  day  mon  dur  \\\n",
              "0   58    management  married       tertiary   unknown    5  may  261   \n",
              "1   44    technician   single      secondary   unknown    5  may  151   \n",
              "2   33  entrepreneur  married      secondary   unknown    5  may   76   \n",
              "3   47   blue-collar  married        unknown   unknown    5  may   92   \n",
              "4   33       unknown   single        unknown   unknown    5  may  198   \n",
              "\n",
              "   num_calls prev_outcome   y  \n",
              "0          1      unknown  no  \n",
              "1          1      unknown  no  \n",
              "2          1      unknown  no  \n",
              "3          1      unknown  no  \n",
              "4          1      unknown  no  "
            ],
            "text/html": [
              "\n",
              "  <div id=\"df-974f3931-ab95-4cc2-808a-5b12d604ca7b\">\n",
              "    <div class=\"colab-df-container\">\n",
              "      <div>\n",
              "<style scoped>\n",
              "    .dataframe tbody tr th:only-of-type {\n",
              "        vertical-align: middle;\n",
              "    }\n",
              "\n",
              "    .dataframe tbody tr th {\n",
              "        vertical-align: top;\n",
              "    }\n",
              "\n",
              "    .dataframe thead th {\n",
              "        text-align: right;\n",
              "    }\n",
              "</style>\n",
              "<table border=\"1\" class=\"dataframe\">\n",
              "  <thead>\n",
              "    <tr style=\"text-align: right;\">\n",
              "      <th></th>\n",
              "      <th>age</th>\n",
              "      <th>job</th>\n",
              "      <th>marital</th>\n",
              "      <th>education_qual</th>\n",
              "      <th>call_type</th>\n",
              "      <th>day</th>\n",
              "      <th>mon</th>\n",
              "      <th>dur</th>\n",
              "      <th>num_calls</th>\n",
              "      <th>prev_outcome</th>\n",
              "      <th>y</th>\n",
              "    </tr>\n",
              "  </thead>\n",
              "  <tbody>\n",
              "    <tr>\n",
              "      <th>0</th>\n",
              "      <td>58</td>\n",
              "      <td>management</td>\n",
              "      <td>married</td>\n",
              "      <td>tertiary</td>\n",
              "      <td>unknown</td>\n",
              "      <td>5</td>\n",
              "      <td>may</td>\n",
              "      <td>261</td>\n",
              "      <td>1</td>\n",
              "      <td>unknown</td>\n",
              "      <td>no</td>\n",
              "    </tr>\n",
              "    <tr>\n",
              "      <th>1</th>\n",
              "      <td>44</td>\n",
              "      <td>technician</td>\n",
              "      <td>single</td>\n",
              "      <td>secondary</td>\n",
              "      <td>unknown</td>\n",
              "      <td>5</td>\n",
              "      <td>may</td>\n",
              "      <td>151</td>\n",
              "      <td>1</td>\n",
              "      <td>unknown</td>\n",
              "      <td>no</td>\n",
              "    </tr>\n",
              "    <tr>\n",
              "      <th>2</th>\n",
              "      <td>33</td>\n",
              "      <td>entrepreneur</td>\n",
              "      <td>married</td>\n",
              "      <td>secondary</td>\n",
              "      <td>unknown</td>\n",
              "      <td>5</td>\n",
              "      <td>may</td>\n",
              "      <td>76</td>\n",
              "      <td>1</td>\n",
              "      <td>unknown</td>\n",
              "      <td>no</td>\n",
              "    </tr>\n",
              "    <tr>\n",
              "      <th>3</th>\n",
              "      <td>47</td>\n",
              "      <td>blue-collar</td>\n",
              "      <td>married</td>\n",
              "      <td>unknown</td>\n",
              "      <td>unknown</td>\n",
              "      <td>5</td>\n",
              "      <td>may</td>\n",
              "      <td>92</td>\n",
              "      <td>1</td>\n",
              "      <td>unknown</td>\n",
              "      <td>no</td>\n",
              "    </tr>\n",
              "    <tr>\n",
              "      <th>4</th>\n",
              "      <td>33</td>\n",
              "      <td>unknown</td>\n",
              "      <td>single</td>\n",
              "      <td>unknown</td>\n",
              "      <td>unknown</td>\n",
              "      <td>5</td>\n",
              "      <td>may</td>\n",
              "      <td>198</td>\n",
              "      <td>1</td>\n",
              "      <td>unknown</td>\n",
              "      <td>no</td>\n",
              "    </tr>\n",
              "  </tbody>\n",
              "</table>\n",
              "</div>\n",
              "      <button class=\"colab-df-convert\" onclick=\"convertToInteractive('df-974f3931-ab95-4cc2-808a-5b12d604ca7b')\"\n",
              "              title=\"Convert this dataframe to an interactive table.\"\n",
              "              style=\"display:none;\">\n",
              "        \n",
              "  <svg xmlns=\"http://www.w3.org/2000/svg\" height=\"24px\"viewBox=\"0 0 24 24\"\n",
              "       width=\"24px\">\n",
              "    <path d=\"M0 0h24v24H0V0z\" fill=\"none\"/>\n",
              "    <path d=\"M18.56 5.44l.94 2.06.94-2.06 2.06-.94-2.06-.94-.94-2.06-.94 2.06-2.06.94zm-11 1L8.5 8.5l.94-2.06 2.06-.94-2.06-.94L8.5 2.5l-.94 2.06-2.06.94zm10 10l.94 2.06.94-2.06 2.06-.94-2.06-.94-.94-2.06-.94 2.06-2.06.94z\"/><path d=\"M17.41 7.96l-1.37-1.37c-.4-.4-.92-.59-1.43-.59-.52 0-1.04.2-1.43.59L10.3 9.45l-7.72 7.72c-.78.78-.78 2.05 0 2.83L4 21.41c.39.39.9.59 1.41.59.51 0 1.02-.2 1.41-.59l7.78-7.78 2.81-2.81c.8-.78.8-2.07 0-2.86zM5.41 20L4 18.59l7.72-7.72 1.47 1.35L5.41 20z\"/>\n",
              "  </svg>\n",
              "      </button>\n",
              "      \n",
              "  <style>\n",
              "    .colab-df-container {\n",
              "      display:flex;\n",
              "      flex-wrap:wrap;\n",
              "      gap: 12px;\n",
              "    }\n",
              "\n",
              "    .colab-df-convert {\n",
              "      background-color: #E8F0FE;\n",
              "      border: none;\n",
              "      border-radius: 50%;\n",
              "      cursor: pointer;\n",
              "      display: none;\n",
              "      fill: #1967D2;\n",
              "      height: 32px;\n",
              "      padding: 0 0 0 0;\n",
              "      width: 32px;\n",
              "    }\n",
              "\n",
              "    .colab-df-convert:hover {\n",
              "      background-color: #E2EBFA;\n",
              "      box-shadow: 0px 1px 2px rgba(60, 64, 67, 0.3), 0px 1px 3px 1px rgba(60, 64, 67, 0.15);\n",
              "      fill: #174EA6;\n",
              "    }\n",
              "\n",
              "    [theme=dark] .colab-df-convert {\n",
              "      background-color: #3B4455;\n",
              "      fill: #D2E3FC;\n",
              "    }\n",
              "\n",
              "    [theme=dark] .colab-df-convert:hover {\n",
              "      background-color: #434B5C;\n",
              "      box-shadow: 0px 1px 3px 1px rgba(0, 0, 0, 0.15);\n",
              "      filter: drop-shadow(0px 1px 2px rgba(0, 0, 0, 0.3));\n",
              "      fill: #FFFFFF;\n",
              "    }\n",
              "  </style>\n",
              "\n",
              "      <script>\n",
              "        const buttonEl =\n",
              "          document.querySelector('#df-974f3931-ab95-4cc2-808a-5b12d604ca7b button.colab-df-convert');\n",
              "        buttonEl.style.display =\n",
              "          google.colab.kernel.accessAllowed ? 'block' : 'none';\n",
              "\n",
              "        async function convertToInteractive(key) {\n",
              "          const element = document.querySelector('#df-974f3931-ab95-4cc2-808a-5b12d604ca7b');\n",
              "          const dataTable =\n",
              "            await google.colab.kernel.invokeFunction('convertToInteractive',\n",
              "                                                     [key], {});\n",
              "          if (!dataTable) return;\n",
              "\n",
              "          const docLinkHtml = 'Like what you see? Visit the ' +\n",
              "            '<a target=\"_blank\" href=https://colab.research.google.com/notebooks/data_table.ipynb>data table notebook</a>'\n",
              "            + ' to learn more about interactive tables.';\n",
              "          element.innerHTML = '';\n",
              "          dataTable['output_type'] = 'display_data';\n",
              "          await google.colab.output.renderOutput(dataTable, element);\n",
              "          const docLink = document.createElement('div');\n",
              "          docLink.innerHTML = docLinkHtml;\n",
              "          element.appendChild(docLink);\n",
              "        }\n",
              "      </script>\n",
              "    </div>\n",
              "  </div>\n",
              "  "
            ]
          },
          "metadata": {},
          "execution_count": 2
        }
      ]
    },
    {
      "cell_type": "code",
      "source": [
        "df.shape  # checking the rows and columns"
      ],
      "metadata": {
        "colab": {
          "base_uri": "https://localhost:8080/"
        },
        "id": "-IFmFtM1gMm4",
        "outputId": "1ff7c9fa-efde-444d-9c2f-f5edf1d46d2d"
      },
      "execution_count": 3,
      "outputs": [
        {
          "output_type": "execute_result",
          "data": {
            "text/plain": [
              "(45211, 11)"
            ]
          },
          "metadata": {},
          "execution_count": 3
        }
      ]
    },
    {
      "cell_type": "markdown",
      "source": [
        "# **Pre-Processing The Data**\n"
      ],
      "metadata": {
        "id": "7Xn8N_jMhNuP"
      }
    },
    {
      "cell_type": "markdown",
      "source": [
        "# 1). Clean"
      ],
      "metadata": {
        "id": "9KBCZQ-qlzh6"
      }
    },
    {
      "cell_type": "code",
      "source": [
        "df.isnull().sum()  # 1). checking for null values"
      ],
      "metadata": {
        "colab": {
          "base_uri": "https://localhost:8080/"
        },
        "id": "AvBS6s6zgMsY",
        "outputId": "b2f33a39-844e-4405-a48c-51366d213b14"
      },
      "execution_count": 4,
      "outputs": [
        {
          "output_type": "execute_result",
          "data": {
            "text/plain": [
              "age               0\n",
              "job               0\n",
              "marital           0\n",
              "education_qual    0\n",
              "call_type         0\n",
              "day               0\n",
              "mon               0\n",
              "dur               0\n",
              "num_calls         0\n",
              "prev_outcome      0\n",
              "y                 0\n",
              "dtype: int64"
            ]
          },
          "metadata": {},
          "execution_count": 4
        }
      ]
    },
    {
      "cell_type": "code",
      "source": [
        "df = df.drop_duplicates()  # 2). dropping the duplicates\n",
        "\n",
        "df.shape  # checking the rows and column after deleting the duplicates"
      ],
      "metadata": {
        "colab": {
          "base_uri": "https://localhost:8080/"
        },
        "id": "fqs68zy9gMx4",
        "outputId": "bee2f51f-5be2-41bf-f1d4-0ff7608a59c1"
      },
      "execution_count": 5,
      "outputs": [
        {
          "output_type": "execute_result",
          "data": {
            "text/plain": [
              "(45205, 11)"
            ]
          },
          "metadata": {},
          "execution_count": 5
        }
      ]
    },
    {
      "cell_type": "code",
      "source": [
        "df.dtypes  # 3). checking the data type for given features"
      ],
      "metadata": {
        "colab": {
          "base_uri": "https://localhost:8080/"
        },
        "id": "MwH5iYkKgM3i",
        "outputId": "75a9c1b5-7cfc-4d14-c1ee-00eeca5f09cd"
      },
      "execution_count": 6,
      "outputs": [
        {
          "output_type": "execute_result",
          "data": {
            "text/plain": [
              "age                int64\n",
              "job               object\n",
              "marital           object\n",
              "education_qual    object\n",
              "call_type         object\n",
              "day                int64\n",
              "mon               object\n",
              "dur                int64\n",
              "num_calls          int64\n",
              "prev_outcome      object\n",
              "y                 object\n",
              "dtype: object"
            ]
          },
          "metadata": {},
          "execution_count": 6
        }
      ]
    },
    {
      "cell_type": "code",
      "source": [
        "df.describe()  # 4). Treating Olutlier\n",
        "\n",
        "# By IQR method we are treating the outliers"
      ],
      "metadata": {
        "colab": {
          "base_uri": "https://localhost:8080/",
          "height": 0
        },
        "id": "OyPMSpbJgM9l",
        "outputId": "6fd7c2bf-0eb9-4aba-a08b-bd72fe57c6b8"
      },
      "execution_count": 7,
      "outputs": [
        {
          "output_type": "execute_result",
          "data": {
            "text/plain": [
              "                age          day           dur     num_calls\n",
              "count  45205.000000  45205.00000  45205.000000  45205.000000\n",
              "mean      40.937087     15.80688    258.183055      2.763898\n",
              "std       10.619130      8.32234    257.538504      3.098189\n",
              "min       18.000000      1.00000      0.000000      1.000000\n",
              "25%       33.000000      8.00000    103.000000      1.000000\n",
              "50%       39.000000     16.00000    180.000000      2.000000\n",
              "75%       48.000000     21.00000    319.000000      3.000000\n",
              "max       95.000000     31.00000   4918.000000     63.000000"
            ],
            "text/html": [
              "\n",
              "  <div id=\"df-b26f7135-0848-4561-8b30-2de7b2cd9632\">\n",
              "    <div class=\"colab-df-container\">\n",
              "      <div>\n",
              "<style scoped>\n",
              "    .dataframe tbody tr th:only-of-type {\n",
              "        vertical-align: middle;\n",
              "    }\n",
              "\n",
              "    .dataframe tbody tr th {\n",
              "        vertical-align: top;\n",
              "    }\n",
              "\n",
              "    .dataframe thead th {\n",
              "        text-align: right;\n",
              "    }\n",
              "</style>\n",
              "<table border=\"1\" class=\"dataframe\">\n",
              "  <thead>\n",
              "    <tr style=\"text-align: right;\">\n",
              "      <th></th>\n",
              "      <th>age</th>\n",
              "      <th>day</th>\n",
              "      <th>dur</th>\n",
              "      <th>num_calls</th>\n",
              "    </tr>\n",
              "  </thead>\n",
              "  <tbody>\n",
              "    <tr>\n",
              "      <th>count</th>\n",
              "      <td>45205.000000</td>\n",
              "      <td>45205.00000</td>\n",
              "      <td>45205.000000</td>\n",
              "      <td>45205.000000</td>\n",
              "    </tr>\n",
              "    <tr>\n",
              "      <th>mean</th>\n",
              "      <td>40.937087</td>\n",
              "      <td>15.80688</td>\n",
              "      <td>258.183055</td>\n",
              "      <td>2.763898</td>\n",
              "    </tr>\n",
              "    <tr>\n",
              "      <th>std</th>\n",
              "      <td>10.619130</td>\n",
              "      <td>8.32234</td>\n",
              "      <td>257.538504</td>\n",
              "      <td>3.098189</td>\n",
              "    </tr>\n",
              "    <tr>\n",
              "      <th>min</th>\n",
              "      <td>18.000000</td>\n",
              "      <td>1.00000</td>\n",
              "      <td>0.000000</td>\n",
              "      <td>1.000000</td>\n",
              "    </tr>\n",
              "    <tr>\n",
              "      <th>25%</th>\n",
              "      <td>33.000000</td>\n",
              "      <td>8.00000</td>\n",
              "      <td>103.000000</td>\n",
              "      <td>1.000000</td>\n",
              "    </tr>\n",
              "    <tr>\n",
              "      <th>50%</th>\n",
              "      <td>39.000000</td>\n",
              "      <td>16.00000</td>\n",
              "      <td>180.000000</td>\n",
              "      <td>2.000000</td>\n",
              "    </tr>\n",
              "    <tr>\n",
              "      <th>75%</th>\n",
              "      <td>48.000000</td>\n",
              "      <td>21.00000</td>\n",
              "      <td>319.000000</td>\n",
              "      <td>3.000000</td>\n",
              "    </tr>\n",
              "    <tr>\n",
              "      <th>max</th>\n",
              "      <td>95.000000</td>\n",
              "      <td>31.00000</td>\n",
              "      <td>4918.000000</td>\n",
              "      <td>63.000000</td>\n",
              "    </tr>\n",
              "  </tbody>\n",
              "</table>\n",
              "</div>\n",
              "      <button class=\"colab-df-convert\" onclick=\"convertToInteractive('df-b26f7135-0848-4561-8b30-2de7b2cd9632')\"\n",
              "              title=\"Convert this dataframe to an interactive table.\"\n",
              "              style=\"display:none;\">\n",
              "        \n",
              "  <svg xmlns=\"http://www.w3.org/2000/svg\" height=\"24px\"viewBox=\"0 0 24 24\"\n",
              "       width=\"24px\">\n",
              "    <path d=\"M0 0h24v24H0V0z\" fill=\"none\"/>\n",
              "    <path d=\"M18.56 5.44l.94 2.06.94-2.06 2.06-.94-2.06-.94-.94-2.06-.94 2.06-2.06.94zm-11 1L8.5 8.5l.94-2.06 2.06-.94-2.06-.94L8.5 2.5l-.94 2.06-2.06.94zm10 10l.94 2.06.94-2.06 2.06-.94-2.06-.94-.94-2.06-.94 2.06-2.06.94z\"/><path d=\"M17.41 7.96l-1.37-1.37c-.4-.4-.92-.59-1.43-.59-.52 0-1.04.2-1.43.59L10.3 9.45l-7.72 7.72c-.78.78-.78 2.05 0 2.83L4 21.41c.39.39.9.59 1.41.59.51 0 1.02-.2 1.41-.59l7.78-7.78 2.81-2.81c.8-.78.8-2.07 0-2.86zM5.41 20L4 18.59l7.72-7.72 1.47 1.35L5.41 20z\"/>\n",
              "  </svg>\n",
              "      </button>\n",
              "      \n",
              "  <style>\n",
              "    .colab-df-container {\n",
              "      display:flex;\n",
              "      flex-wrap:wrap;\n",
              "      gap: 12px;\n",
              "    }\n",
              "\n",
              "    .colab-df-convert {\n",
              "      background-color: #E8F0FE;\n",
              "      border: none;\n",
              "      border-radius: 50%;\n",
              "      cursor: pointer;\n",
              "      display: none;\n",
              "      fill: #1967D2;\n",
              "      height: 32px;\n",
              "      padding: 0 0 0 0;\n",
              "      width: 32px;\n",
              "    }\n",
              "\n",
              "    .colab-df-convert:hover {\n",
              "      background-color: #E2EBFA;\n",
              "      box-shadow: 0px 1px 2px rgba(60, 64, 67, 0.3), 0px 1px 3px 1px rgba(60, 64, 67, 0.15);\n",
              "      fill: #174EA6;\n",
              "    }\n",
              "\n",
              "    [theme=dark] .colab-df-convert {\n",
              "      background-color: #3B4455;\n",
              "      fill: #D2E3FC;\n",
              "    }\n",
              "\n",
              "    [theme=dark] .colab-df-convert:hover {\n",
              "      background-color: #434B5C;\n",
              "      box-shadow: 0px 1px 3px 1px rgba(0, 0, 0, 0.15);\n",
              "      filter: drop-shadow(0px 1px 2px rgba(0, 0, 0, 0.3));\n",
              "      fill: #FFFFFF;\n",
              "    }\n",
              "  </style>\n",
              "\n",
              "      <script>\n",
              "        const buttonEl =\n",
              "          document.querySelector('#df-b26f7135-0848-4561-8b30-2de7b2cd9632 button.colab-df-convert');\n",
              "        buttonEl.style.display =\n",
              "          google.colab.kernel.accessAllowed ? 'block' : 'none';\n",
              "\n",
              "        async function convertToInteractive(key) {\n",
              "          const element = document.querySelector('#df-b26f7135-0848-4561-8b30-2de7b2cd9632');\n",
              "          const dataTable =\n",
              "            await google.colab.kernel.invokeFunction('convertToInteractive',\n",
              "                                                     [key], {});\n",
              "          if (!dataTable) return;\n",
              "\n",
              "          const docLinkHtml = 'Like what you see? Visit the ' +\n",
              "            '<a target=\"_blank\" href=https://colab.research.google.com/notebooks/data_table.ipynb>data table notebook</a>'\n",
              "            + ' to learn more about interactive tables.';\n",
              "          element.innerHTML = '';\n",
              "          dataTable['output_type'] = 'display_data';\n",
              "          await google.colab.output.renderOutput(dataTable, element);\n",
              "          const docLink = document.createElement('div');\n",
              "          docLink.innerHTML = docLinkHtml;\n",
              "          element.appendChild(docLink);\n",
              "        }\n",
              "      </script>\n",
              "    </div>\n",
              "  </div>\n",
              "  "
            ]
          },
          "metadata": {},
          "execution_count": 7
        }
      ]
    },
    {
      "cell_type": "code",
      "source": [
        "iqr = df['age'].quantile(0.75) - df['age'].quantile(0.25)  # (q3- q1)\n",
        "\n",
        "upper_threshold = df['age'].quantile(0.75) + (1.5 * iqr) # (q3 + (1.5 * iqr))\n",
        "\n",
        "lower_threshold = df['age'].quantile(0.25) - (1.5 * iqr)  # (q1 - (1.5 * iqr))\n",
        "\n",
        "upper_threshold , lower_threshold  # there is no need of treating the outlier outlier"
      ],
      "metadata": {
        "colab": {
          "base_uri": "https://localhost:8080/"
        },
        "id": "24veGLaigNy_",
        "outputId": "d9c27486-c1c0-4ddc-e163-420686697c21"
      },
      "execution_count": 8,
      "outputs": [
        {
          "output_type": "execute_result",
          "data": {
            "text/plain": [
              "(70.5, 10.5)"
            ]
          },
          "metadata": {},
          "execution_count": 8
        }
      ]
    },
    {
      "cell_type": "code",
      "source": [
        "df.age = df.age.clip(lower_threshold, upper_threshold)  # By using the clip function we are treating the outlier"
      ],
      "metadata": {
        "id": "9OZp4jsUgN3R"
      },
      "execution_count": 9,
      "outputs": []
    },
    {
      "cell_type": "code",
      "source": [
        "iqr = df['day'].quantile(0.75) - df['day'].quantile(0.25)  # (q3- q1)\n",
        "\n",
        "upper_threshold = df['day'].quantile(0.75) + (1.5 * iqr) # (q3 + (1.5 * iqr))\n",
        "\n",
        "lower_threshold = df['day'].quantile(0.25) - (1.5 * iqr)  # (q1 - (1.5 * iqr))\n",
        "\n",
        "upper_threshold , lower_threshold  # there is no need of treating the outlier outlier"
      ],
      "metadata": {
        "colab": {
          "base_uri": "https://localhost:8080/"
        },
        "id": "5rV-muBdgN8P",
        "outputId": "e438a2a6-cd22-4c1d-b331-a9e85f5eeec1"
      },
      "execution_count": 10,
      "outputs": [
        {
          "output_type": "execute_result",
          "data": {
            "text/plain": [
              "(40.5, -11.5)"
            ]
          },
          "metadata": {},
          "execution_count": 10
        }
      ]
    },
    {
      "cell_type": "code",
      "source": [
        "df.day = df.day.clip(lower_threshold, upper_threshold)  # By using the clip function we are treating the outlier"
      ],
      "metadata": {
        "id": "iv6syPy-gOAa"
      },
      "execution_count": 11,
      "outputs": []
    },
    {
      "cell_type": "code",
      "source": [
        "iqr = df['dur'].quantile(0.75) - df['dur'].quantile(0.25)  # (q3- q1)\n",
        "\n",
        "upper_threshold = df['dur'].quantile(0.75) + (1.5 * iqr) # (q3 + (1.5 * iqr))\n",
        "\n",
        "lower_threshold = df['dur'].quantile(0.25) - (1.5 * iqr)  # (q1 - (1.5 * iqr))\n",
        "\n",
        "upper_threshold , lower_threshold  # there is no need of treating the outlier outlier"
      ],
      "metadata": {
        "colab": {
          "base_uri": "https://localhost:8080/"
        },
        "id": "V4yxV5JMgOE3",
        "outputId": "1128f33d-e12a-47b0-c8db-dae53a302456"
      },
      "execution_count": 12,
      "outputs": [
        {
          "output_type": "execute_result",
          "data": {
            "text/plain": [
              "(643.0, -221.0)"
            ]
          },
          "metadata": {},
          "execution_count": 12
        }
      ]
    },
    {
      "cell_type": "code",
      "source": [
        "df.dur = df.dur.clip(lower_threshold, upper_threshold)  # By using the clip function we are treating the outlier"
      ],
      "metadata": {
        "id": "uXiZsQ4YgOIp"
      },
      "execution_count": 13,
      "outputs": []
    },
    {
      "cell_type": "code",
      "source": [
        "iqr = df['num_calls'].quantile(0.75) - df['num_calls'].quantile(0.25)  # (q3- q1)\n",
        "\n",
        "upper_threshold = df['num_calls'].quantile(0.75) + (1.5 * iqr) # (q3 + (1.5 * iqr))\n",
        "\n",
        "lower_threshold = df['num_calls'].quantile(0.25) - (1.5 * iqr)  # (q1 - (1.5 * iqr))\n",
        "\n",
        "upper_threshold , lower_threshold  # there is no need of treating the outlier outlier"
      ],
      "metadata": {
        "colab": {
          "base_uri": "https://localhost:8080/"
        },
        "id": "OaJUf_qIgOMp",
        "outputId": "775674ad-9d0d-4787-d468-be47798da74b"
      },
      "execution_count": 14,
      "outputs": [
        {
          "output_type": "execute_result",
          "data": {
            "text/plain": [
              "(6.0, -2.0)"
            ]
          },
          "metadata": {},
          "execution_count": 14
        }
      ]
    },
    {
      "cell_type": "code",
      "source": [
        "df.num_calls = df.num_calls.clip(lower_threshold, upper_threshold)  # By using the clip function we are treating the outlier\n",
        "\n",
        "# **we throughly cleaned the data**\n",
        "# **treated the outliers**\n",
        "# **dropped the duplicates and checked the null values**\n",
        "# **data in the right format and structured data**"
      ],
      "metadata": {
        "id": "xzeDTAdngOSr"
      },
      "execution_count": 15,
      "outputs": []
    },
    {
      "cell_type": "code",
      "source": [
        "pd.value_counts(df['call_type'].values)  "
      ],
      "metadata": {
        "colab": {
          "base_uri": "https://localhost:8080/"
        },
        "id": "bSNXOzQv2kYw",
        "outputId": "ddcfa39a-43e9-4f38-fee8-199b7ebb5e47"
      },
      "execution_count": 16,
      "outputs": [
        {
          "output_type": "execute_result",
          "data": {
            "text/plain": [
              "cellular     29282\n",
              "unknown      13017\n",
              "telephone     2906\n",
              "dtype: int64"
            ]
          },
          "metadata": {},
          "execution_count": 16
        }
      ]
    },
    {
      "cell_type": "code",
      "source": [
        "# Replacing the unknown value with the mode\n",
        "\n",
        "df['job'] = df['job'].replace('unknown','blue-collar') "
      ],
      "metadata": {
        "id": "48T-8xZE2kOO"
      },
      "execution_count": 17,
      "outputs": []
    },
    {
      "cell_type": "code",
      "source": [
        "# Replacing the unknown value with the mode\n",
        "\n",
        "df['education_qual'] = df['education_qual'].replace('unknown','secondary')"
      ],
      "metadata": {
        "id": "_o8vd72r2kCn"
      },
      "execution_count": 18,
      "outputs": []
    },
    {
      "cell_type": "code",
      "source": [
        "# Here we done the label encoding fot target variable \n",
        "\n",
        "df['target'] = df['y'].map({'yes' : 1, 'no' : 0})\n",
        "\n",
        "del df['y']"
      ],
      "metadata": {
        "id": "YDw7upfeBDww"
      },
      "execution_count": 19,
      "outputs": []
    },
    {
      "cell_type": "markdown",
      "source": [
        "# 2). Encode"
      ],
      "metadata": {
        "id": "fn0fJdQZsiCz"
      }
    },
    {
      "cell_type": "markdown",
      "source": [
        "## EDA "
      ],
      "metadata": {
        "id": "6Z9MIysFSKUg"
      }
    },
    {
      "cell_type": "code",
      "source": [
        "# Here we introduced the order in the data (Ordinal)\n",
        "# So we are doing the label encoding\n",
        "# there is no Linear Releation but there is Ordinal Releation\n",
        "\n",
        "(df.groupby('job')['target'].mean()*100).sort_values().plot(kind = 'barh')"
      ],
      "metadata": {
        "colab": {
          "base_uri": "https://localhost:8080/",
          "height": 0
        },
        "id": "ZgA6gf_llNsx",
        "outputId": "d1f45b68-12e5-472a-d3c8-90ca0891b949"
      },
      "execution_count": 20,
      "outputs": [
        {
          "output_type": "execute_result",
          "data": {
            "text/plain": [
              "<matplotlib.axes._subplots.AxesSubplot at 0x7f8a24359070>"
            ]
          },
          "metadata": {},
          "execution_count": 20
        },
        {
          "output_type": "display_data",
          "data": {
            "text/plain": [
              "<Figure size 432x288 with 1 Axes>"
            ],
            "image/png": "[encoded data removed]"
          },
          "metadata": {
            "needs_background": "light"
          }
        }
      ]
    },
    {
      "cell_type": "code",
      "source": [
        "# Here we checking the percentage of the job column who are converted\n",
        "\n",
        "df.groupby('job')['target'].mean()"
      ],
      "metadata": {
        "colab": {
          "base_uri": "https://localhost:8080/"
        },
        "id": "KnppIkMAHNWE",
        "outputId": "214234c4-0d4a-4b39-fe23-c3ecdf251ffe"
      },
      "execution_count": 21,
      "outputs": [
        {
          "output_type": "execute_result",
          "data": {
            "text/plain": [
              "job\n",
              "admin.           0.122050\n",
              "blue-collar      0.074067\n",
              "entrepreneur     0.082717\n",
              "housemaid        0.087903\n",
              "management       0.137570\n",
              "retired          0.227915\n",
              "self-employed    0.118429\n",
              "services         0.088851\n",
              "student          0.286780\n",
              "technician       0.110585\n",
              "unemployed       0.155027\n",
              "Name: target, dtype: float64"
            ]
          },
          "metadata": {},
          "execution_count": 21
        }
      ]
    },
    {
      "cell_type": "code",
      "source": [
        "# Here we are doing the Label Encoding\n",
        "\n",
        "df['job'] = df['job'].map({'blue-collar' : 0, 'entrepreneur' : 1, 'housemaid' : 2, 'services' : 3, 'technician' : 4, 'self-employed' : 5, 'admin.' : 6, 'management' : 7, 'unemployed' : 8, 'retired' : 9, 'student' : 10})"
      ],
      "metadata": {
        "id": "txN_NUCclNkI"
      },
      "execution_count": 22,
      "outputs": []
    },
    {
      "cell_type": "code",
      "source": [
        "# Here we introduced the order in the data (Ordinal)\n",
        "# So we are doing the label encoding\n",
        "# there is some sort of Linear Releation \n",
        "\n",
        "(df.groupby('marital')['target'].mean()*100).sort_values().plot(kind = 'barh')"
      ],
      "metadata": {
        "colab": {
          "base_uri": "https://localhost:8080/",
          "height": 0
        },
        "id": "M8hTK5JelNgP",
        "outputId": "e2ce1b9e-c300-4d5e-d527-146687948e23"
      },
      "execution_count": 23,
      "outputs": [
        {
          "output_type": "execute_result",
          "data": {
            "text/plain": [
              "<matplotlib.axes._subplots.AxesSubplot at 0x7f8a242b77f0>"
            ]
          },
          "metadata": {},
          "execution_count": 23
        },
        {
          "output_type": "display_data",
          "data": {
            "text/plain": [
              "<Figure size 432x288 with 1 Axes>"
            ],
            "image/png": "[encoded data removed]"
          },
          "metadata": {
            "needs_background": "light"
          }
        }
      ]
    },
    {
      "cell_type": "code",
      "source": [
        "# Here we checking the percentage of the martial column who are converted\n",
        "\n",
        "df.groupby('marital')['target'].mean()"
      ],
      "metadata": {
        "colab": {
          "base_uri": "https://localhost:8080/"
        },
        "id": "4eh55UweHXLd",
        "outputId": "74648983-9118-48e9-8ad8-25c64d344a17"
      },
      "execution_count": 24,
      "outputs": [
        {
          "output_type": "execute_result",
          "data": {
            "text/plain": [
              "marital\n",
              "divorced    0.119455\n",
              "married     0.101250\n",
              "single      0.149515\n",
              "Name: target, dtype: float64"
            ]
          },
          "metadata": {},
          "execution_count": 24
        }
      ]
    },
    {
      "cell_type": "code",
      "source": [
        "# Here we are doing the Label Encoding\n",
        "\n",
        "df['marital'] = df['marital'].map({'married' : 0, 'divorced' : 1, 'single' : 2})"
      ],
      "metadata": {
        "id": "b9anpM2slNcr"
      },
      "execution_count": 25,
      "outputs": []
    },
    {
      "cell_type": "code",
      "source": [
        "# Here we introduced the order in the data (Ordinal)\n",
        "# So we are doing the label encoding\n",
        "# there is some sort of Linear Releation\n",
        "\n",
        "(df.groupby('education_qual')['target'].mean()*100).sort_values().plot(kind = 'barh')"
      ],
      "metadata": {
        "colab": {
          "base_uri": "https://localhost:8080/",
          "height": 0
        },
        "id": "H6-MmhralNFs",
        "outputId": "a603533e-ad4c-435c-e059-bc2951a9f3f8"
      },
      "execution_count": 26,
      "outputs": [
        {
          "output_type": "execute_result",
          "data": {
            "text/plain": [
              "<matplotlib.axes._subplots.AxesSubplot at 0x7f8a5570fd00>"
            ]
          },
          "metadata": {},
          "execution_count": 26
        },
        {
          "output_type": "display_data",
          "data": {
            "text/plain": [
              "<Figure size 432x288 with 1 Axes>"
            ],
            "image/png": "[encoded data removed]"
          },
          "metadata": {
            "needs_background": "light"
          }
        }
      ]
    },
    {
      "cell_type": "code",
      "source": [
        "# Here we checking the percentage of the education_qual column who are converted\n",
        "\n",
        "df.groupby('education_qual')['target'].mean()"
      ],
      "metadata": {
        "colab": {
          "base_uri": "https://localhost:8080/"
        },
        "id": "yFoAjn3cHdKt",
        "outputId": "4096a865-d387-4d99-eb99-043a732e4911"
      },
      "execution_count": 27,
      "outputs": [
        {
          "output_type": "execute_result",
          "data": {
            "text/plain": [
              "education_qual\n",
              "primary      0.086277\n",
              "secondary    0.107838\n",
              "tertiary     0.150086\n",
              "Name: target, dtype: float64"
            ]
          },
          "metadata": {},
          "execution_count": 27
        }
      ]
    },
    {
      "cell_type": "code",
      "source": [
        "# Here we are doing the Label Encoding\n",
        "\n",
        "df['education_qual'] = df['education_qual'].map({'primary' : 0, 'secondary' : 1, 'tertiary' : 2})"
      ],
      "metadata": {
        "id": "UBgcwyz0lNA5"
      },
      "execution_count": 28,
      "outputs": []
    },
    {
      "cell_type": "code",
      "source": [
        "# Here we introduced the order in the data (Ordinal)\n",
        "# So we are doing the label encoding\n",
        "# there is some sort of Linear Releation\n",
        "\n",
        "(df.groupby('call_type')['target'].mean()*100).sort_values().plot(kind = 'barh')"
      ],
      "metadata": {
        "colab": {
          "base_uri": "https://localhost:8080/",
          "height": 0
        },
        "id": "W5SNBAvSFCxh",
        "outputId": "2f713209-f6bb-4c4b-e6ea-db0dccb19c47"
      },
      "execution_count": 29,
      "outputs": [
        {
          "output_type": "execute_result",
          "data": {
            "text/plain": [
              "<matplotlib.axes._subplots.AxesSubplot at 0x7f8a23f6fbe0>"
            ]
          },
          "metadata": {},
          "execution_count": 29
        },
        {
          "output_type": "display_data",
          "data": {
            "text/plain": [
              "<Figure size 432x288 with 1 Axes>"
            ],
            "image/png": "[encoded data removed]"
          },
          "metadata": {
            "needs_background": "light"
          }
        }
      ]
    },
    {
      "cell_type": "code",
      "source": [
        "# Here we checking the percentage of the call_type column who are converted\n",
        "\n",
        "df.groupby('call_type')['target'].mean()"
      ],
      "metadata": {
        "colab": {
          "base_uri": "https://localhost:8080/"
        },
        "id": "aplLHKk0Hh2D",
        "outputId": "8b9d1936-a527-4dbf-b9be-0ab8582dd3e9"
      },
      "execution_count": 30,
      "outputs": [
        {
          "output_type": "execute_result",
          "data": {
            "text/plain": [
              "call_type\n",
              "cellular     0.149204\n",
              "telephone    0.134205\n",
              "unknown      0.040716\n",
              "Name: target, dtype: float64"
            ]
          },
          "metadata": {},
          "execution_count": 30
        }
      ]
    },
    {
      "cell_type": "code",
      "source": [
        "# Here we are doing the Label Encoding\n",
        "\n",
        "df['call_type'] = df['call_type'].map({'unknown' : 0, 'telephone' : 1, 'cellular' : 2})"
      ],
      "metadata": {
        "id": "uM3oYYTTlM8p"
      },
      "execution_count": 31,
      "outputs": []
    },
    {
      "cell_type": "code",
      "source": [
        "# Here we introduced the order in the data (Ordinal)\n",
        "# So we are doing the label encoding\n",
        "# there is some sort of Linear Releation\n",
        "\n",
        "(df.groupby('mon')['target'].mean()*100).sort_values().plot(kind = 'barh')"
      ],
      "metadata": {
        "colab": {
          "base_uri": "https://localhost:8080/",
          "height": 0
        },
        "id": "VwbpFKKjLgdh",
        "outputId": "efc7cf25-cdd1-45d0-cfae-88388a853c7e"
      },
      "execution_count": 32,
      "outputs": [
        {
          "output_type": "execute_result",
          "data": {
            "text/plain": [
              "<matplotlib.axes._subplots.AxesSubplot at 0x7f8a23ecf4f0>"
            ]
          },
          "metadata": {},
          "execution_count": 32
        },
        {
          "output_type": "display_data",
          "data": {
            "text/plain": [
              "<Figure size 432x288 with 1 Axes>"
            ],
            "image/png": "[encoded data removed]"
          },
          "metadata": {
            "needs_background": "light"
          }
        }
      ]
    },
    {
      "cell_type": "code",
      "source": [
        "# Here we checking the percentage of the month column who are converted\n",
        "\n",
        "df.groupby('mon')['target'].mean()"
      ],
      "metadata": {
        "colab": {
          "base_uri": "https://localhost:8080/"
        },
        "id": "LV4ub78FLgPZ",
        "outputId": "194c1f2a-006a-4693-a476-1eed551bac13"
      },
      "execution_count": 33,
      "outputs": [
        {
          "output_type": "execute_result",
          "data": {
            "text/plain": [
              "mon\n",
              "apr    0.196794\n",
              "aug    0.110168\n",
              "dec    0.467290\n",
              "feb    0.166478\n",
              "jan    0.101212\n",
              "jul    0.090949\n",
              "jun    0.102266\n",
              "mar    0.519916\n",
              "may    0.067199\n",
              "nov    0.101511\n",
              "oct    0.437669\n",
              "sep    0.464594\n",
              "Name: target, dtype: float64"
            ]
          },
          "metadata": {},
          "execution_count": 33
        }
      ]
    },
    {
      "cell_type": "code",
      "source": [
        "df['mon'] = df['mon'].map({'may':0, 'jul':1, 'jan':2, 'nov':3, 'jun':4, 'aug':5, 'feb': 6, 'apr':7, 'oct': 8, 'sep':9, 'dec':10, 'mar':11})"
      ],
      "metadata": {
        "id": "C7EDRdv0LgAh"
      },
      "execution_count": 34,
      "outputs": []
    },
    {
      "cell_type": "code",
      "source": [
        "# Here we introduced the order in the data (Ordinal)\n",
        "# So we are doing the label encoding\n",
        "# there is some sort of Linear Releation\n",
        "\n",
        "(df.groupby('prev_outcome')['target'].mean()*100).sort_values().plot(kind = 'barh')"
      ],
      "metadata": {
        "colab": {
          "base_uri": "https://localhost:8080/",
          "height": 0
        },
        "id": "b_qWZ3I8lM5K",
        "outputId": "4fc03c68-c7ef-409c-cbb3-4ace5fe6e231"
      },
      "execution_count": 35,
      "outputs": [
        {
          "output_type": "execute_result",
          "data": {
            "text/plain": [
              "<matplotlib.axes._subplots.AxesSubplot at 0x7f8a23a10ac0>"
            ]
          },
          "metadata": {},
          "execution_count": 35
        },
        {
          "output_type": "display_data",
          "data": {
            "text/plain": [
              "<Figure size 432x288 with 1 Axes>"
            ],
            "image/png": "[encoded data removed]"
          },
          "metadata": {
            "needs_background": "light"
          }
        }
      ]
    },
    {
      "cell_type": "code",
      "source": [
        "# Here we checking the percentage of the prev_outcome column who are converted\n",
        "\n",
        "df.groupby('prev_outcome')['target'].mean()"
      ],
      "metadata": {
        "colab": {
          "base_uri": "https://localhost:8080/"
        },
        "id": "RrPg93MFHl0t",
        "outputId": "ea9b9d5f-8567-482b-c5cf-0eea8966c6f1"
      },
      "execution_count": 36,
      "outputs": [
        {
          "output_type": "execute_result",
          "data": {
            "text/plain": [
              "prev_outcome\n",
              "failure    0.126097\n",
              "other      0.166848\n",
              "success    0.647253\n",
              "unknown    0.091630\n",
              "Name: target, dtype: float64"
            ]
          },
          "metadata": {},
          "execution_count": 36
        }
      ]
    },
    {
      "cell_type": "code",
      "source": [
        "# Here we are doing the Label Encoding\n",
        "\n",
        "df['prev_outcome'] = df['prev_outcome'].map({'unknown' : 0, 'failure' : 1, 'other' : 2, 'success' : 3})"
      ],
      "metadata": {
        "id": "_2fJLyj9lMur"
      },
      "execution_count": 37,
      "outputs": []
    },
    {
      "cell_type": "code",
      "source": [
        "df.groupby('age')['target'].mean().plot()\n",
        "\n",
        "# df.plot(x='age', y='target', style='o')\n",
        "\n",
        "plt.title('Age vs Target')\n",
        "\n",
        "plt.xlabel('age')\n",
        "\n",
        "plt.ylabel('target')\n",
        "\n",
        "plt.show()"
      ],
      "metadata": {
        "colab": {
          "base_uri": "https://localhost:8080/",
          "height": 0
        },
        "id": "y9jHYKD4gOX5",
        "outputId": "66c13d78-45e4-47d5-f8c1-7910786e3ab9"
      },
      "execution_count": 38,
      "outputs": [
        {
          "output_type": "display_data",
          "data": {
            "text/plain": [
              "<Figure size 432x288 with 1 Axes>"
            ],
            "image/png": "[encoded data removed]"
          },
          "metadata": {
            "needs_background": "light"
          }
        }
      ]
    },
    {
      "cell_type": "code",
      "source": [
        "df.groupby('day')['target'].mean().plot()\n",
        "\n",
        "# df.plot(x='day', y='target', style='o')\n",
        "\n",
        "plt.title('Day vs Target')\n",
        "\n",
        "plt.xlabel('day')\n",
        "\n",
        "plt.ylabel('target')\n",
        "\n",
        "plt.show()"
      ],
      "metadata": {
        "colab": {
          "base_uri": "https://localhost:8080/",
          "height": 0
        },
        "id": "YkxIZx19LGLF",
        "outputId": "56abc4cd-5d92-4e20-bc8e-31d4ded12c75"
      },
      "execution_count": 39,
      "outputs": [
        {
          "output_type": "display_data",
          "data": {
            "text/plain": [
              "<Figure size 432x288 with 1 Axes>"
            ],
            "image/png": "[encoded data removed]"
          },
          "metadata": {
            "needs_background": "light"
          }
        }
      ]
    },
    {
      "cell_type": "code",
      "source": [
        "df.groupby('dur')['target'].mean().plot()\n",
        "\n",
        "# df.plot(x='dur', y='target', style='o')\n",
        "\n",
        "plt.title('Duration vs Target')\n",
        "\n",
        "plt.xlabel('dur')\n",
        "\n",
        "plt.ylabel('target')\n",
        "\n",
        "plt.show()"
      ],
      "metadata": {
        "colab": {
          "base_uri": "https://localhost:8080/",
          "height": 0
        },
        "id": "_9-cc7mwLGjf",
        "outputId": "09ce5bde-bfdf-482c-d3a7-ee0e6d9188e5"
      },
      "execution_count": 40,
      "outputs": [
        {
          "output_type": "display_data",
          "data": {
            "text/plain": [
              "<Figure size 432x288 with 1 Axes>"
            ],
            "image/png": "[encoded data removed]"
          },
          "metadata": {
            "needs_background": "light"
          }
        }
      ]
    },
    {
      "cell_type": "code",
      "source": [
        "df.groupby('num_calls')['target'].mean().plot()\n",
        "\n",
        "# df.plot(x='num_calls', y='target', style='o')\n",
        "\n",
        "plt.title('No.of.calls vs Target')\n",
        "\n",
        "plt.xlabel('num_calls')\n",
        "\n",
        "plt.ylabel('target')\n",
        "\n",
        "plt.show()"
      ],
      "metadata": {
        "colab": {
          "base_uri": "https://localhost:8080/",
          "height": 0
        },
        "id": "SOISOlHVLGuo",
        "outputId": "57be4be1-ebbf-46f7-c4c6-d6f651274569"
      },
      "execution_count": 41,
      "outputs": [
        {
          "output_type": "display_data",
          "data": {
            "text/plain": [
              "<Figure size 432x288 with 1 Axes>"
            ],
            "image/png": "[encoded data removed]"
          },
          "metadata": {
            "needs_background": "light"
          }
        }
      ]
    },
    {
      "cell_type": "markdown",
      "source": [
        "# 3). Train And Split"
      ],
      "metadata": {
        "id": "hCq3lngcShdX"
      }
    },
    {
      "cell_type": "code",
      "source": [
        "labels = df.columns[:10]  # Extracting all the feature except the target variable\n",
        "\n",
        "X = df[labels].values  # Taking all the feature as a array\n",
        "\n",
        "y = df['target'].values  # Taking the target variable as a array"
      ],
      "metadata": {
        "id": "Qmr0V2I1LG7d"
      },
      "execution_count": 42,
      "outputs": []
    },
    {
      "cell_type": "code",
      "source": [
        "from sklearn.model_selection import train_test_split #import the required function\n",
        "\n",
        "X_train, X_test, y_train, y_test = train_test_split(X, y, test_size=0.3)  # training the data with the balanced data "
      ],
      "metadata": {
        "id": "Y1wRSbGZLHEE"
      },
      "execution_count": 43,
      "outputs": []
    },
    {
      "cell_type": "code",
      "source": [
        "sns.countplot(x = df['target'])\n",
        "\n",
        "plt.xlabel('Target')\n",
        "\n",
        "plt.title('Count of Target Variable')\n",
        "\n",
        "plt.plot()\n",
        "\n",
        "#  Target variable is highly imbalanced\n",
        "#  So, we need to balance the data"
      ],
      "metadata": {
        "colab": {
          "base_uri": "https://localhost:8080/",
          "height": 0
        },
        "id": "_Jn2862kLHKR",
        "outputId": "ff135e88-abdf-4cee-c529-a78c21c94941"
      },
      "execution_count": 44,
      "outputs": [
        {
          "output_type": "execute_result",
          "data": {
            "text/plain": [
              "[]"
            ]
          },
          "metadata": {},
          "execution_count": 44
        },
        {
          "output_type": "display_data",
          "data": {
            "text/plain": [
              "<Figure size 432x288 with 1 Axes>"
            ],
            "image/png": "[encoded data removed]"
          },
          "metadata": {
            "needs_background": "light"
          }
        }
      ]
    },
    {
      "cell_type": "markdown",
      "source": [
        "# 4). Balance the Data\n",
        "\n",
        "# Oversampling followed by Undersampling"
      ],
      "metadata": {
        "id": "0x6b0S5iXMPA"
      }
    },
    {
      "cell_type": "code",
      "source": [
        "# importing the required package for balancing the data\n",
        "\n",
        "from imblearn.combine import SMOTEENN\n",
        "\n",
        "smt = SMOTEENN(sampling_strategy='all')  # initializing the smoteenn\n",
        "\n",
        "X_smt, y_smt = smt.fit_resample(X_train, y_train)  # by fitting the data by cluster centroid and SMOTE is done"
      ],
      "metadata": {
        "id": "IUf-iKF4V2Sd"
      },
      "execution_count": 45,
      "outputs": []
    },
    {
      "cell_type": "markdown",
      "source": [
        "# 5). Scaling the data"
      ],
      "metadata": {
        "id": "twgpRkBQ2qWK"
      }
    },
    {
      "cell_type": "code",
      "source": [
        "# importing the required package\n",
        "\n",
        "from sklearn.preprocessing import StandardScaler ## standrard scaling\n",
        "\n",
        "scaler = StandardScaler() #initialise to a variable\n",
        "\n",
        "scaler.fit(X_smt) # we are finding the values of mean and sd from the td\n",
        "\n",
        "X_train_scaled = scaler.transform(X_smt) # fit (mean, sd) and then transform the training data\n",
        "\n",
        "# only fit the training data not the test data\n",
        "\n",
        "X_test_scaled = scaler.transform(X_test) # transform the test data"
      ],
      "metadata": {
        "id": "x3UprBPsV2Ny"
      },
      "execution_count": 46,
      "outputs": []
    },
    {
      "cell_type": "markdown",
      "source": [
        "# **MODEL**"
      ],
      "metadata": {
        "id": "MbqM2KQd3Ycd"
      }
    },
    {
      "cell_type": "markdown",
      "source": [
        "# Task--> Supervised Learning\n",
        "\n",
        "# Where the target variable is given\n",
        "\n",
        "# Here the target variable is categorical data so we are using the Classification Algorithms\n",
        "\n",
        "# Model For Logistic Regression --> (y = (1 / (1 + e^-(m * x - c)))"
      ],
      "metadata": {
        "id": "iK3kOkuh3iY8"
      }
    },
    {
      "cell_type": "markdown",
      "source": [
        "\n",
        "# LOGISTIC REGRESSION"
      ],
      "metadata": {
        "id": "K7HgmWJ136bk"
      }
    },
    {
      "cell_type": "code",
      "source": [
        "from sklearn.linear_model import LogisticRegression  # importing the required package to build the LR model \n",
        "\n",
        "logistic_regression= LogisticRegression()  # initialise the required package to the variable\n",
        "\n",
        "logistic_regression.fit(X_train_scaled,y_smt)  # magic happens - best values of betas - training/learning happens here\n",
        "\n",
        "y_pred=logistic_regression.predict(X_test_scaled)"
      ],
      "metadata": {
        "id": "21IrVfaJV2JY"
      },
      "execution_count": 47,
      "outputs": []
    },
    {
      "cell_type": "code",
      "source": [
        "logistic_regression.predict_proba(X_test_scaled)"
      ],
      "metadata": {
        "colab": {
          "base_uri": "https://localhost:8080/"
        },
        "id": "Xhi8-mobV2EQ",
        "outputId": "74864942-0ae8-41ac-ea4e-8d63ed6796d4"
      },
      "execution_count": 48,
      "outputs": [
        {
          "output_type": "execute_result",
          "data": {
            "text/plain": [
              "array([[0.89801038, 0.10198962],\n",
              "       [0.21976993, 0.78023007],\n",
              "       [0.8443856 , 0.1556144 ],\n",
              "       ...,\n",
              "       [0.98994292, 0.01005708],\n",
              "       [0.99568636, 0.00431364],\n",
              "       [0.8392744 , 0.1607256 ]])"
            ]
          },
          "metadata": {},
          "execution_count": 48
        }
      ]
    },
    {
      "cell_type": "code",
      "source": [
        "logistic_regression.coef_"
      ],
      "metadata": {
        "colab": {
          "base_uri": "https://localhost:8080/"
        },
        "id": "0zwyCzHOV1_T",
        "outputId": "1ffe91a5-a7ec-4e20-9973-b6020f78ed5b"
      },
      "execution_count": 49,
      "outputs": [
        {
          "output_type": "execute_result",
          "data": {
            "text/plain": [
              "array([[ 0.1073897 ,  0.5568849 ,  0.26966625,  0.11966874,  0.45419203,\n",
              "         0.00367463,  1.32668826,  2.90949051, -0.44289566,  0.9812711 ]])"
            ]
          },
          "metadata": {},
          "execution_count": 49
        }
      ]
    },
    {
      "cell_type": "code",
      "source": [
        "logistic_regression.intercept_"
      ],
      "metadata": {
        "colab": {
          "base_uri": "https://localhost:8080/"
        },
        "id": "pYHu6tq1V16Z",
        "outputId": "f92d878b-8983-4df1-bb23-7f3fc09527f8"
      },
      "execution_count": 50,
      "outputs": [
        {
          "output_type": "execute_result",
          "data": {
            "text/plain": [
              "array([0.67189815])"
            ]
          },
          "metadata": {},
          "execution_count": 50
        }
      ]
    },
    {
      "cell_type": "markdown",
      "source": [
        "# **Evaluation Metric**"
      ],
      "metadata": {
        "id": "OvyKIlBk4kQs"
      }
    },
    {
      "cell_type": "code",
      "source": [
        "logistic_regression.score(X_test_scaled,y_test) # Accuracy Score "
      ],
      "metadata": {
        "colab": {
          "base_uri": "https://localhost:8080/"
        },
        "id": "bT2GsohoVsy_",
        "outputId": "6eb95351-5df2-491c-a48c-49b4449ae342"
      },
      "execution_count": 51,
      "outputs": [
        {
          "output_type": "execute_result",
          "data": {
            "text/plain": [
              "0.7645627488571007"
            ]
          },
          "metadata": {},
          "execution_count": 51
        }
      ]
    },
    {
      "cell_type": "code",
      "source": [
        "accuracy_score(y_test,y_pred)  # another method to print Accuracy"
      ],
      "metadata": {
        "colab": {
          "base_uri": "https://localhost:8080/"
        },
        "id": "8aTMUmGe5fgM",
        "outputId": "690b4cf7-432e-435e-88ef-92cb5a7cde2e"
      },
      "execution_count": 52,
      "outputs": [
        {
          "output_type": "execute_result",
          "data": {
            "text/plain": [
              "0.7645627488571007"
            ]
          },
          "metadata": {},
          "execution_count": 52
        }
      ]
    },
    {
      "cell_type": "code",
      "source": [
        "f1_score(y_test,y_pred)  # F1 score"
      ],
      "metadata": {
        "colab": {
          "base_uri": "https://localhost:8080/"
        },
        "id": "qDpJ8BoR5fTc",
        "outputId": "fc227969-3dfc-4d3b-ad0b-1117e56c1eae"
      },
      "execution_count": 53,
      "outputs": [
        {
          "output_type": "execute_result",
          "data": {
            "text/plain": [
              "0.46453127620325346"
            ]
          },
          "metadata": {},
          "execution_count": 53
        }
      ]
    },
    {
      "cell_type": "code",
      "source": [
        "plot_roc_curve(logistic_regression, X_test_scaled, y_test) #AUROC"
      ],
      "metadata": {
        "colab": {
          "base_uri": "https://localhost:8080/",
          "height": 297
        },
        "id": "HNtrfcoG5fBW",
        "outputId": "0be67370-488c-4823-adc1-490c7007381d"
      },
      "execution_count": 54,
      "outputs": [
        {
          "output_type": "execute_result",
          "data": {
            "text/plain": [
              "<sklearn.metrics._plot.roc_curve.RocCurveDisplay at 0x7f8a243f1a60>"
            ]
          },
          "metadata": {},
          "execution_count": 54
        },
        {
          "output_type": "display_data",
          "data": {
            "text/plain": [
              "<Figure size 432x288 with 1 Axes>"
            ],
            "image/png": "[encoded data removed]"
          },
          "metadata": {
            "needs_background": "light"
          }
        }
      ]
    },
    {
      "cell_type": "markdown",
      "source": [
        "# **Decision Tree**"
      ],
      "metadata": {
        "id": "f22WS5U46uuB"
      }
    },
    {
      "cell_type": "code",
      "source": [
        "from sklearn.tree import DecisionTreeClassifier\n",
        "\n",
        "# Instantiate a DecisionTreeClassifier 'dt' with a maximum depth \n",
        "dt = DecisionTreeClassifier()\n",
        "\n",
        "dt.fit(X_train_scaled, y_smt) # it will ask all possible questions, compute the information gain and choose the best split Fit dt to the training set\n",
        "\n",
        "y_pred = dt.predict(X_test_scaled)  # Predict test set labels\n",
        "\n",
        "y_pred"
      ],
      "metadata": {
        "colab": {
          "base_uri": "https://localhost:8080/"
        },
        "id": "kvaqgwLu6XHK",
        "outputId": "aa95f614-3980-4cb5-ef26-2513ef04998b"
      },
      "execution_count": 55,
      "outputs": [
        {
          "output_type": "execute_result",
          "data": {
            "text/plain": [
              "array([0, 1, 0, ..., 0, 0, 0])"
            ]
          },
          "metadata": {},
          "execution_count": 55
        }
      ]
    },
    {
      "cell_type": "code",
      "source": [
        "dt.score(X_test_scaled , y_test)  # accuracy for test data"
      ],
      "metadata": {
        "colab": {
          "base_uri": "https://localhost:8080/"
        },
        "id": "DChCjFOV6Y-2",
        "outputId": "414be510-e209-4010-f1ef-365b57df6aa1"
      },
      "execution_count": 56,
      "outputs": [
        {
          "output_type": "execute_result",
          "data": {
            "text/plain": [
              "0.8466302905176227"
            ]
          },
          "metadata": {},
          "execution_count": 56
        }
      ]
    },
    {
      "cell_type": "code",
      "source": [
        "dt.score(X_train_scaled , y_smt)  # accuracy for training data"
      ],
      "metadata": {
        "colab": {
          "base_uri": "https://localhost:8080/"
        },
        "id": "h_ROemOu6Y5g",
        "outputId": "95d2261a-20f0-47e0-f1f3-16c5e19ba3e1"
      },
      "execution_count": 57,
      "outputs": [
        {
          "output_type": "execute_result",
          "data": {
            "text/plain": [
              "1.0"
            ]
          },
          "metadata": {},
          "execution_count": 57
        }
      ]
    },
    {
      "cell_type": "markdown",
      "source": [
        "# Evaluating the decision tree"
      ],
      "metadata": {
        "id": "QBPZbjiC7udy"
      }
    },
    {
      "cell_type": "code",
      "source": [
        "#we compute the eval metric on test/validation set only primarily\n",
        "\n",
        "y_pred = dt.predict(X_test_scaled) # Model's predictions Predict test set labels\n",
        "\n",
        "acc = accuracy_score(y_test, y_pred)  # Compute test set accuracy\n",
        "\n",
        "print(\"Test set accuracy: {:.2f}\".format(acc))\n",
        "\n",
        "acc = roc_auc_score(y_test, y_pred)\n",
        "\n",
        "print(\"Test set auc: {:.2f}\".format(acc))\n",
        "\n",
        "plot_roc_curve(dt, X_test_scaled, y_test)"
      ],
      "metadata": {
        "colab": {
          "base_uri": "https://localhost:8080/",
          "height": 334
        },
        "id": "qsuCq5fj6Yzg",
        "outputId": "f2f2e0b3-d6e6-489b-f143-e643e4ce0d20"
      },
      "execution_count": 58,
      "outputs": [
        {
          "output_type": "stream",
          "name": "stdout",
          "text": [
            "Test set accuracy: 0.85\n",
            "Test set auc: 0.79\n"
          ]
        },
        {
          "output_type": "execute_result",
          "data": {
            "text/plain": [
              "<sklearn.metrics._plot.roc_curve.RocCurveDisplay at 0x7f8a23f31640>"
            ]
          },
          "metadata": {},
          "execution_count": 58
        },
        {
          "output_type": "display_data",
          "data": {
            "text/plain": [
              "<Figure size 432x288 with 1 Axes>"
            ],
            "image/png": "[encoded data removed]"
          },
          "metadata": {
            "needs_background": "light"
          }
        }
      ]
    },
    {
      "cell_type": "markdown",
      "source": [
        "# Reducing the overfit to the model by fitting the max depth"
      ],
      "metadata": {
        "id": "YMA33mes8EeK"
      }
    },
    {
      "cell_type": "code",
      "source": [
        "from sklearn.model_selection import cross_val_score  # import all the functions reqd for cross validation\n",
        "\n",
        "for depth in [1,2,3,4,5,6,7,8,9,10,20,30,40,50]:\n",
        "    \n",
        "    dt = DecisionTreeClassifier(max_depth = depth) # will tell the DT to not grow past the given threhsold\n",
        "    \n",
        "    dt.fit(X_train_scaled, y_smt) # the model is trained Fit dt to the training set\n",
        "    \n",
        "    trainAccuracy = accuracy_score(y_smt, dt.predict(X_train_scaled))    \n",
        "    \n",
        "    valAccuracy = cross_val_score(dt, X_train_scaled, y_smt, cv=10) # syntax : cross_val_Score(freshModel,fts, target, cv= 10/5)\n",
        "    \n",
        "    print(\"Depth  : \", depth,\" Training Accuracy : \", trainAccuracy,  \" Cross val score : \" ,np.mean(valAccuracy))"
      ],
      "metadata": {
        "colab": {
          "base_uri": "https://localhost:8080/"
        },
        "id": "kiop9RgC6YtZ",
        "outputId": "eaaf8b4a-50a0-4856-89d7-0bb50c924f3f"
      },
      "execution_count": 60,
      "outputs": [
        {
          "output_type": "stream",
          "name": "stdout",
          "text": [
            "Depth  :  1  Training Accuracy :  0.786127408147131  Cross val score :  0.7861272717403641\n",
            "Depth  :  2  Training Accuracy :  0.8378063496026297  Cross val score :  0.8377652371121632\n",
            "Depth  :  3  Training Accuracy :  0.8745891066450298  Cross val score :  0.874027498911154\n",
            "Depth  :  4  Training Accuracy :  0.8934381891565764  Cross val score :  0.8901306667061432\n",
            "Depth  :  5  Training Accuracy :  0.9186119086256398  Cross val score :  0.9176968954191077\n",
            "Depth  :  6  Training Accuracy :  0.9330503890483918  Cross val score :  0.9309912649061081\n",
            "Depth  :  7  Training Accuracy :  0.940519285981775  Cross val score :  0.9370246833646417\n",
            "Depth  :  8  Training Accuracy :  0.9524611991844547  Cross val score :  0.9441192234136981\n",
            "Depth  :  9  Training Accuracy :  0.9598884866641701  Cross val score :  0.9481553118930026\n",
            "Depth  :  10  Training Accuracy :  0.9678358923147339  Cross val score :  0.9521290303423335\n",
            "Depth  :  20  Training Accuracy :  0.9996463196438231  Cross val score :  0.9561032249318059\n",
            "Depth  :  30  Training Accuracy :  1.0  Cross val score :  0.9557704029729844\n",
            "Depth  :  40  Training Accuracy :  1.0  Cross val score :  0.9564153434515712\n",
            "Depth  :  50  Training Accuracy :  1.0  Cross val score :  0.9566025401124263\n"
          ]
        }
      ]
    },
    {
      "cell_type": "code",
      "source": [
        "plot_roc_curve(dt, X_test_scaled, y_test)"
      ],
      "metadata": {
        "colab": {
          "base_uri": "https://localhost:8080/",
          "height": 297
        },
        "id": "Z1aF8huf6YoS",
        "outputId": "0e238dd1-b4ba-42ff-df7d-992478eda528"
      },
      "execution_count": 61,
      "outputs": [
        {
          "output_type": "execute_result",
          "data": {
            "text/plain": [
              "<sklearn.metrics._plot.roc_curve.RocCurveDisplay at 0x7f8a1fd6b8b0>"
            ]
          },
          "metadata": {},
          "execution_count": 61
        },
        {
          "output_type": "display_data",
          "data": {
            "text/plain": [
              "<Figure size 432x288 with 1 Axes>"
            ],
            "image/png": "[encoded data removed]"
          },
          "metadata": {
            "needs_background": "light"
          }
        }
      ]
    },
    {
      "cell_type": "code",
      "source": [
        "dt = DecisionTreeClassifier(max_depth = 20) # will tell the DT to not grow past the given threhsold\n",
        "    \n",
        "dt.fit(X_train_scaled, y_smt) "
      ],
      "metadata": {
        "colab": {
          "base_uri": "https://localhost:8080/"
        },
        "id": "W29Na3Yg6Yi-",
        "outputId": "b10444fc-70bb-4e6c-93e4-3bf93a686593"
      },
      "execution_count": 64,
      "outputs": [
        {
          "output_type": "execute_result",
          "data": {
            "text/plain": [
              "DecisionTreeClassifier(max_depth=20)"
            ]
          },
          "metadata": {},
          "execution_count": 64
        }
      ]
    },
    {
      "cell_type": "code",
      "source": [
        "plot_roc_curve(dt, X_test_scaled, y_test)"
      ],
      "metadata": {
        "colab": {
          "base_uri": "https://localhost:8080/",
          "height": 297
        },
        "id": "ywQfwwC26Ydq",
        "outputId": "a19a898c-e45b-4f9a-df7c-b0b9ce4b9930"
      },
      "execution_count": 65,
      "outputs": [
        {
          "output_type": "execute_result",
          "data": {
            "text/plain": [
              "<sklearn.metrics._plot.roc_curve.RocCurveDisplay at 0x7f8a2419c670>"
            ]
          },
          "metadata": {},
          "execution_count": 65
        },
        {
          "output_type": "display_data",
          "data": {
            "text/plain": [
              "<Figure size 432x288 with 1 Axes>"
            ],
            "image/png": "[encoded data removed]"
          },
          "metadata": {
            "needs_background": "light"
          }
        }
      ]
    },
    {
      "cell_type": "markdown",
      "source": [
        "# **Ensemble Technqiues**\n",
        "# **Here i'm using XG-boost and Random Forest algorithm for my ml model**"
      ],
      "metadata": {
        "id": "awCCWyj99BaI"
      }
    },
    {
      "cell_type": "markdown",
      "source": [
        "# Random Forest"
      ],
      "metadata": {
        "id": "dG2nUvO49GXl"
      }
    },
    {
      "cell_type": "code",
      "source": [
        "from sklearn.ensemble import RandomForestClassifier  # importing the required package\n",
        "\n",
        "rf = RandomForestClassifier(n_estimators= 100, max_depth = 4, max_features='sqrt')  # initialize the model"
      ],
      "metadata": {
        "id": "kwIfc5Kk6YOs"
      },
      "execution_count": 66,
      "outputs": []
    },
    {
      "cell_type": "code",
      "source": [
        "rf.fit(X_train_scaled , y_smt)"
      ],
      "metadata": {
        "colab": {
          "base_uri": "https://localhost:8080/"
        },
        "id": "VarIUJ2U6YJi",
        "outputId": "419ae187-6803-43ee-8af9-61d8658faa0a"
      },
      "execution_count": 67,
      "outputs": [
        {
          "output_type": "execute_result",
          "data": {
            "text/plain": [
              "RandomForestClassifier(max_depth=4, max_features='sqrt')"
            ]
          },
          "metadata": {},
          "execution_count": 67
        }
      ]
    },
    {
      "cell_type": "code",
      "source": [
        "y_pred = rf.predict(X_test_scaled) # Model's predictions Predict test set labels\n",
        "\n",
        "y_pred"
      ],
      "metadata": {
        "colab": {
          "base_uri": "https://localhost:8080/"
        },
        "id": "NE4lVc_b6YD2",
        "outputId": "75473f5d-d0da-4ea9-a1d4-3a1b8f93e828"
      },
      "execution_count": 68,
      "outputs": [
        {
          "output_type": "execute_result",
          "data": {
            "text/plain": [
              "array([0, 1, 1, ..., 0, 0, 0])"
            ]
          },
          "metadata": {},
          "execution_count": 68
        }
      ]
    },
    {
      "cell_type": "code",
      "source": [
        "auroc = roc_auc_score(y_pred, y_test)\n",
        "\n",
        "print(\"Test set auc: {:.2f}\".format(auroc))"
      ],
      "metadata": {
        "colab": {
          "base_uri": "https://localhost:8080/"
        },
        "id": "DGmcusRB6X-_",
        "outputId": "6deefa5b-0e49-4e0e-f8a0-d522fa3d5bdc"
      },
      "execution_count": 69,
      "outputs": [
        {
          "output_type": "stream",
          "name": "stdout",
          "text": [
            "Test set auc: 0.65\n"
          ]
        }
      ]
    },
    {
      "cell_type": "code",
      "source": [
        "plot_roc_curve(rf, X_test_scaled, y_test)"
      ],
      "metadata": {
        "colab": {
          "base_uri": "https://localhost:8080/",
          "height": 297
        },
        "id": "iefyf0pQ6X51",
        "outputId": "621b946c-9114-4a7f-ad77-14f8bfbad23d"
      },
      "execution_count": 70,
      "outputs": [
        {
          "output_type": "execute_result",
          "data": {
            "text/plain": [
              "<sklearn.metrics._plot.roc_curve.RocCurveDisplay at 0x7f8a1f0c2eb0>"
            ]
          },
          "metadata": {},
          "execution_count": 70
        },
        {
          "output_type": "display_data",
          "data": {
            "text/plain": [
              "<Figure size 432x288 with 1 Axes>"
            ],
            "image/png": "[encoded data removed]"
          },
          "metadata": {
            "needs_background": "light"
          }
        }
      ]
    },
    {
      "cell_type": "markdown",
      "source": [
        "# **Xg-Boost**"
      ],
      "metadata": {
        "id": "rtmHxxvN-LNw"
      }
    },
    {
      "cell_type": "markdown",
      "source": [
        "# Model Fitting"
      ],
      "metadata": {
        "id": "iBA3WQ-g-YFV"
      }
    },
    {
      "cell_type": "code",
      "source": [
        "import xgboost as xgb\n",
        "\n",
        "from sklearn.model_selection import cross_val_score\n",
        "\n",
        "for lr in [0.01,0.02,0.03,0.04,0.05,0.06,0.07,0.08,0.09,0.1,0.11,0.12,0.13,0.14,0.15,0.2,0.5,0.7,1]:\n",
        "    model = xgb.XGBClassifier(learning_rate = lr, n_estimators=100, verbosity = 0) # initialise the model\n",
        "    model.fit(X_train_scaled,y_smt) #train the model\n",
        "    model.score(X_test_scaled, y_test) # scoring the model - r2 squared\n",
        "    print(\"Learning rate : \", lr, \" Train score : \", model.score(X_train_scaled,y_smt), \" Cross-Val score : \", np.mean(cross_val_score(model, X_train_scaled, y_smt, cv=10)))"
      ],
      "metadata": {
        "colab": {
          "base_uri": "https://localhost:8080/"
        },
        "id": "2pdaERyd-Lsc",
        "outputId": "08d0d04f-e8f4-499b-db9c-139c9bb65620"
      },
      "execution_count": 72,
      "outputs": [
        {
          "output_type": "stream",
          "name": "stdout",
          "text": [
            "Learning rate :  0.01  Train score :  0.9042774518370574  Cross-Val score :  0.9019682724449648\n",
            "Learning rate :  0.02  Train score :  0.9238755045146257  Cross-Val score :  0.9220242041945175\n",
            "Learning rate :  0.03  Train score :  0.9375442100445222  Cross-Val score :  0.9357762568995953\n",
            "Learning rate :  0.04  Train score :  0.9453667873340823  Cross-Val score :  0.942537992304017\n",
            "Learning rate :  0.05  Train score :  0.9498189988765448  Cross-Val score :  0.9474687740802465\n",
            "Learning rate :  0.06  Train score :  0.9530021220821371  Cross-Val score :  0.9503399380896618\n",
            "Learning rate :  0.07  Train score :  0.9560604169267257  Cross-Val score :  0.9522957270058292\n",
            "Learning rate :  0.08  Train score :  0.9583281321516248  Cross-Val score :  0.9552293216448721\n",
            "Learning rate :  0.09  Train score :  0.9605958473765239  Cross-Val score :  0.9557703120735029\n",
            "Learning rate :  0.1  Train score :  0.9624266633379104  Cross-Val score :  0.9579133106361656\n",
            "Learning rate :  0.11  Train score :  0.9646735738359755  Cross-Val score :  0.9593279792673\n",
            "Learning rate :  0.12  Train score :  0.9665876087046977  Cross-Val score :  0.9599313570400912\n",
            "Learning rate :  0.13  Train score :  0.9671909457828819  Cross-Val score :  0.9612837119123598\n",
            "Learning rate :  0.14  Train score :  0.9687304955685931  Cross-Val score :  0.961949533300419\n",
            "Learning rate :  0.15  Train score :  0.9698539508176257  Cross-Val score :  0.9622616215203571\n",
            "Learning rate :  0.2  Train score :  0.9725169558523696  Cross-Val score :  0.9635308466524881\n",
            "Learning rate :  0.5  Train score :  0.9782174510048683  Cross-Val score :  0.9655075640921424\n",
            "Learning rate :  0.7  Train score :  0.9803187284150959  Cross-Val score :  0.9652371511202149\n",
            "Learning rate :  1  Train score :  0.9815254025714643  Cross-Val score :  0.9639681467439676\n"
          ]
        }
      ]
    },
    {
      "cell_type": "code",
      "source": [
        "model = xgb.XGBRegressor(learning_rate = 0.5, n_estimators=100)\n",
        "\n",
        "model.fit(X_smt,y_smt) #train the model\n",
        "\n",
        "model.score(X_test_scaled, y_test) # scoring the model"
      ],
      "metadata": {
        "colab": {
          "base_uri": "https://localhost:8080/"
        },
        "id": "w8FummE1-NA-",
        "outputId": "7a5751c6-fb90-40ff-964f-12a4283c9725"
      },
      "execution_count": 77,
      "outputs": [
        {
          "output_type": "stream",
          "name": "stdout",
          "text": [
            "[12:49:48] WARNING: /workspace/src/objective/regression_obj.cu:152: reg:linear is now deprecated in favor of reg:squarederror.\n"
          ]
        },
        {
          "output_type": "execute_result",
          "data": {
            "text/plain": [
              "-2.0442083115908622"
            ]
          },
          "metadata": {},
          "execution_count": 77
        }
      ]
    },
    {
      "cell_type": "code",
      "source": [
        "y_pred = rf.predict(X_test_scaled) # Model's predictions Predict test set labels\n",
        "\n",
        "y_pred"
      ],
      "metadata": {
        "colab": {
          "base_uri": "https://localhost:8080/"
        },
        "id": "SP-oeGIE-M6Y",
        "outputId": "f5df25c0-6f53-4111-a382-04047312ce1d"
      },
      "execution_count": 78,
      "outputs": [
        {
          "output_type": "execute_result",
          "data": {
            "text/plain": [
              "array([0, 1, 1, ..., 0, 0, 0])"
            ]
          },
          "metadata": {},
          "execution_count": 78
        }
      ]
    },
    {
      "cell_type": "code",
      "source": [
        "auroc = roc_auc_score(y_pred, y_test)\n",
        "\n",
        "print(\"Test set auc: {:.2f}\".format(auroc))"
      ],
      "metadata": {
        "colab": {
          "base_uri": "https://localhost:8080/"
        },
        "id": "7XJKdWLW-M0b",
        "outputId": "466d809e-eb42-4a23-b67c-86eb74470566"
      },
      "execution_count": 79,
      "outputs": [
        {
          "output_type": "stream",
          "name": "stdout",
          "text": [
            "Test set auc: 0.65\n"
          ]
        }
      ]
    },
    {
      "cell_type": "code",
      "source": [
        "plot_roc_curve(rf, X_test_scaled, y_test)"
      ],
      "metadata": {
        "colab": {
          "base_uri": "https://localhost:8080/",
          "height": 297
        },
        "id": "730kpmGG-Mqb",
        "outputId": "80bd8a2f-6ca7-4f88-802d-785e2533054c"
      },
      "execution_count": 80,
      "outputs": [
        {
          "output_type": "execute_result",
          "data": {
            "text/plain": [
              "<sklearn.metrics._plot.roc_curve.RocCurveDisplay at 0x7f8a2399cbe0>"
            ]
          },
          "metadata": {},
          "execution_count": 80
        },
        {
          "output_type": "display_data",
          "data": {
            "text/plain": [
              "<Figure size 432x288 with 1 Axes>"
            ],
            "image/png": "[encoded data removed]"
          },
          "metadata": {
            "needs_background": "light"
          }
        }
      ]
    },
    {
      "cell_type": "code",
      "source": [],
      "metadata": {
        "id": "8LVC5Up0-McV"
      },
      "execution_count": null,
      "outputs": []
    }
  ]
}