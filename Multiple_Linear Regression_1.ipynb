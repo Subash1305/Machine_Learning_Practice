{
 "cells": [
  {
   "cell_type": "markdown",
   "id": "edc1c2de",
   "metadata": {},
   "source": [
    "# Simple Linear Regresson for Mileage vs Price"
   ]
  },
  {
   "cell_type": "markdown",
   "id": "898d50eb",
   "metadata": {},
   "source": [
    "# Task, part 1"
   ]
  },
  {
   "cell_type": "code",
   "execution_count": 1,
   "id": "69cf52b2",
   "metadata": {},
   "outputs": [],
   "source": [
    "# importing the required package for read and clean the data\n",
    "\n",
    "import pandas as pd  # to handle the dataframe\n",
    "\n",
    "import numpy as np  # to handle the array"
   ]
  },
  {
   "cell_type": "code",
   "execution_count": 2,
   "id": "0364d5e9",
   "metadata": {},
   "outputs": [],
   "source": [
    "df = pd.read_csv(\"car_data.csv\")  # reading the dataset"
   ]
  },
  {
   "cell_type": "code",
   "execution_count": 3,
   "id": "c39b06d0",
   "metadata": {},
   "outputs": [
    {
     "data": {
      "text/html": [
       "<div>\n",
       "<style scoped>\n",
       "    .dataframe tbody tr th:only-of-type {\n",
       "        vertical-align: middle;\n",
       "    }\n",
       "\n",
       "    .dataframe tbody tr th {\n",
       "        vertical-align: top;\n",
       "    }\n",
       "\n",
       "    .dataframe thead th {\n",
       "        text-align: right;\n",
       "    }\n",
       "</style>\n",
       "<table border=\"1\" class=\"dataframe\">\n",
       "  <thead>\n",
       "    <tr style=\"text-align: right;\">\n",
       "      <th></th>\n",
       "      <th>Price</th>\n",
       "      <th>Mileage</th>\n",
       "      <th>Make</th>\n",
       "      <th>Model</th>\n",
       "      <th>Trim</th>\n",
       "      <th>Type</th>\n",
       "      <th>Cylinder</th>\n",
       "      <th>Liter</th>\n",
       "      <th>Doors</th>\n",
       "      <th>Cruise</th>\n",
       "      <th>Sound</th>\n",
       "      <th>Leather</th>\n",
       "    </tr>\n",
       "  </thead>\n",
       "  <tbody>\n",
       "    <tr>\n",
       "      <th>0</th>\n",
       "      <td>17314.103129</td>\n",
       "      <td>8221</td>\n",
       "      <td>Buick</td>\n",
       "      <td>Century</td>\n",
       "      <td>Sedan 4D</td>\n",
       "      <td>Sedan</td>\n",
       "      <td>6</td>\n",
       "      <td>3.1</td>\n",
       "      <td>4</td>\n",
       "      <td>1</td>\n",
       "      <td>1</td>\n",
       "      <td>1</td>\n",
       "    </tr>\n",
       "    <tr>\n",
       "      <th>1</th>\n",
       "      <td>17542.036083</td>\n",
       "      <td>9135</td>\n",
       "      <td>Buick</td>\n",
       "      <td>Century</td>\n",
       "      <td>Sedan 4D</td>\n",
       "      <td>Sedan</td>\n",
       "      <td>6</td>\n",
       "      <td>3.1</td>\n",
       "      <td>4</td>\n",
       "      <td>1</td>\n",
       "      <td>1</td>\n",
       "      <td>0</td>\n",
       "    </tr>\n",
       "    <tr>\n",
       "      <th>2</th>\n",
       "      <td>16218.847862</td>\n",
       "      <td>13196</td>\n",
       "      <td>Buick</td>\n",
       "      <td>Century</td>\n",
       "      <td>Sedan 4D</td>\n",
       "      <td>Sedan</td>\n",
       "      <td>6</td>\n",
       "      <td>3.1</td>\n",
       "      <td>4</td>\n",
       "      <td>1</td>\n",
       "      <td>1</td>\n",
       "      <td>0</td>\n",
       "    </tr>\n",
       "    <tr>\n",
       "      <th>3</th>\n",
       "      <td>16336.913140</td>\n",
       "      <td>16342</td>\n",
       "      <td>Buick</td>\n",
       "      <td>Century</td>\n",
       "      <td>Sedan 4D</td>\n",
       "      <td>Sedan</td>\n",
       "      <td>6</td>\n",
       "      <td>3.1</td>\n",
       "      <td>4</td>\n",
       "      <td>1</td>\n",
       "      <td>0</td>\n",
       "      <td>0</td>\n",
       "    </tr>\n",
       "    <tr>\n",
       "      <th>4</th>\n",
       "      <td>16339.170324</td>\n",
       "      <td>19832</td>\n",
       "      <td>Buick</td>\n",
       "      <td>Century</td>\n",
       "      <td>Sedan 4D</td>\n",
       "      <td>Sedan</td>\n",
       "      <td>6</td>\n",
       "      <td>3.1</td>\n",
       "      <td>4</td>\n",
       "      <td>1</td>\n",
       "      <td>0</td>\n",
       "      <td>1</td>\n",
       "    </tr>\n",
       "  </tbody>\n",
       "</table>\n",
       "</div>"
      ],
      "text/plain": [
       "          Price  Mileage   Make    Model      Trim   Type  Cylinder  Liter  \\\n",
       "0  17314.103129     8221  Buick  Century  Sedan 4D  Sedan         6    3.1   \n",
       "1  17542.036083     9135  Buick  Century  Sedan 4D  Sedan         6    3.1   \n",
       "2  16218.847862    13196  Buick  Century  Sedan 4D  Sedan         6    3.1   \n",
       "3  16336.913140    16342  Buick  Century  Sedan 4D  Sedan         6    3.1   \n",
       "4  16339.170324    19832  Buick  Century  Sedan 4D  Sedan         6    3.1   \n",
       "\n",
       "   Doors  Cruise  Sound  Leather  \n",
       "0      4       1      1        1  \n",
       "1      4       1      1        0  \n",
       "2      4       1      1        0  \n",
       "3      4       1      0        0  \n",
       "4      4       1      0        1  "
      ]
     },
     "execution_count": 3,
     "metadata": {},
     "output_type": "execute_result"
    }
   ],
   "source": [
    "df.head()"
   ]
  },
  {
   "cell_type": "code",
   "execution_count": 4,
   "id": "d12e8f46",
   "metadata": {},
   "outputs": [
    {
     "data": {
      "text/plain": [
       "(804, 12)"
      ]
     },
     "execution_count": 4,
     "metadata": {},
     "output_type": "execute_result"
    }
   ],
   "source": [
    "df.shape  # checking how many rows and columns are present in the data"
   ]
  },
  {
   "cell_type": "markdown",
   "id": "5e0232e0",
   "metadata": {},
   "source": [
    "# Pre-processing The Data "
   ]
  },
  {
   "cell_type": "code",
   "execution_count": 5,
   "id": "9fb5419c",
   "metadata": {},
   "outputs": [
    {
     "data": {
      "text/plain": [
       "Price       0\n",
       "Mileage     0\n",
       "Make        0\n",
       "Model       0\n",
       "Trim        0\n",
       "Type        0\n",
       "Cylinder    0\n",
       "Liter       0\n",
       "Doors       0\n",
       "Cruise      0\n",
       "Sound       0\n",
       "Leather     0\n",
       "dtype: int64"
      ]
     },
     "execution_count": 5,
     "metadata": {},
     "output_type": "execute_result"
    }
   ],
   "source": [
    "df.isnull().sum()  # checking the missing values"
   ]
  },
  {
   "cell_type": "code",
   "execution_count": 6,
   "id": "c09b75e3",
   "metadata": {},
   "outputs": [
    {
     "data": {
      "text/plain": [
       "(804, 12)"
      ]
     },
     "execution_count": 6,
     "metadata": {},
     "output_type": "execute_result"
    }
   ],
   "source": [
    "df = df.drop_duplicates()  # dropping the duplicates\n",
    "\n",
    "df.shape"
   ]
  },
  {
   "cell_type": "code",
   "execution_count": 7,
   "id": "aaadf1c5",
   "metadata": {},
   "outputs": [
    {
     "data": {
      "text/plain": [
       "Price       float64\n",
       "Mileage       int64\n",
       "Make         object\n",
       "Model        object\n",
       "Trim         object\n",
       "Type         object\n",
       "Cylinder      int64\n",
       "Liter       float64\n",
       "Doors         int64\n",
       "Cruise        int64\n",
       "Sound         int64\n",
       "Leather       int64\n",
       "dtype: object"
      ]
     },
     "execution_count": 7,
     "metadata": {},
     "output_type": "execute_result"
    }
   ],
   "source": [
    "df.dtypes  # checking for data types"
   ]
  },
  {
   "cell_type": "code",
   "execution_count": 8,
   "id": "333b6448",
   "metadata": {},
   "outputs": [
    {
     "data": {
      "text/html": [
       "<div>\n",
       "<style scoped>\n",
       "    .dataframe tbody tr th:only-of-type {\n",
       "        vertical-align: middle;\n",
       "    }\n",
       "\n",
       "    .dataframe tbody tr th {\n",
       "        vertical-align: top;\n",
       "    }\n",
       "\n",
       "    .dataframe thead th {\n",
       "        text-align: right;\n",
       "    }\n",
       "</style>\n",
       "<table border=\"1\" class=\"dataframe\">\n",
       "  <thead>\n",
       "    <tr style=\"text-align: right;\">\n",
       "      <th></th>\n",
       "      <th>Price</th>\n",
       "      <th>Mileage</th>\n",
       "      <th>Cylinder</th>\n",
       "      <th>Liter</th>\n",
       "      <th>Doors</th>\n",
       "      <th>Cruise</th>\n",
       "      <th>Sound</th>\n",
       "      <th>Leather</th>\n",
       "    </tr>\n",
       "  </thead>\n",
       "  <tbody>\n",
       "    <tr>\n",
       "      <th>count</th>\n",
       "      <td>804.000000</td>\n",
       "      <td>804.000000</td>\n",
       "      <td>804.000000</td>\n",
       "      <td>804.000000</td>\n",
       "      <td>804.000000</td>\n",
       "      <td>804.000000</td>\n",
       "      <td>804.000000</td>\n",
       "      <td>804.000000</td>\n",
       "    </tr>\n",
       "    <tr>\n",
       "      <th>mean</th>\n",
       "      <td>21343.143767</td>\n",
       "      <td>19831.934080</td>\n",
       "      <td>5.268657</td>\n",
       "      <td>3.037313</td>\n",
       "      <td>3.527363</td>\n",
       "      <td>0.752488</td>\n",
       "      <td>0.679104</td>\n",
       "      <td>0.723881</td>\n",
       "    </tr>\n",
       "    <tr>\n",
       "      <th>std</th>\n",
       "      <td>9884.852801</td>\n",
       "      <td>8196.319707</td>\n",
       "      <td>1.387531</td>\n",
       "      <td>1.105562</td>\n",
       "      <td>0.850169</td>\n",
       "      <td>0.431836</td>\n",
       "      <td>0.467111</td>\n",
       "      <td>0.447355</td>\n",
       "    </tr>\n",
       "    <tr>\n",
       "      <th>min</th>\n",
       "      <td>8638.930895</td>\n",
       "      <td>266.000000</td>\n",
       "      <td>4.000000</td>\n",
       "      <td>1.600000</td>\n",
       "      <td>2.000000</td>\n",
       "      <td>0.000000</td>\n",
       "      <td>0.000000</td>\n",
       "      <td>0.000000</td>\n",
       "    </tr>\n",
       "    <tr>\n",
       "      <th>25%</th>\n",
       "      <td>14273.073870</td>\n",
       "      <td>14623.500000</td>\n",
       "      <td>4.000000</td>\n",
       "      <td>2.200000</td>\n",
       "      <td>4.000000</td>\n",
       "      <td>1.000000</td>\n",
       "      <td>0.000000</td>\n",
       "      <td>0.000000</td>\n",
       "    </tr>\n",
       "    <tr>\n",
       "      <th>50%</th>\n",
       "      <td>18024.995019</td>\n",
       "      <td>20913.500000</td>\n",
       "      <td>6.000000</td>\n",
       "      <td>2.800000</td>\n",
       "      <td>4.000000</td>\n",
       "      <td>1.000000</td>\n",
       "      <td>1.000000</td>\n",
       "      <td>1.000000</td>\n",
       "    </tr>\n",
       "    <tr>\n",
       "      <th>75%</th>\n",
       "      <td>26717.316636</td>\n",
       "      <td>25213.000000</td>\n",
       "      <td>6.000000</td>\n",
       "      <td>3.800000</td>\n",
       "      <td>4.000000</td>\n",
       "      <td>1.000000</td>\n",
       "      <td>1.000000</td>\n",
       "      <td>1.000000</td>\n",
       "    </tr>\n",
       "    <tr>\n",
       "      <th>max</th>\n",
       "      <td>70755.466717</td>\n",
       "      <td>50387.000000</td>\n",
       "      <td>8.000000</td>\n",
       "      <td>6.000000</td>\n",
       "      <td>4.000000</td>\n",
       "      <td>1.000000</td>\n",
       "      <td>1.000000</td>\n",
       "      <td>1.000000</td>\n",
       "    </tr>\n",
       "  </tbody>\n",
       "</table>\n",
       "</div>"
      ],
      "text/plain": [
       "              Price       Mileage    Cylinder       Liter       Doors  \\\n",
       "count    804.000000    804.000000  804.000000  804.000000  804.000000   \n",
       "mean   21343.143767  19831.934080    5.268657    3.037313    3.527363   \n",
       "std     9884.852801   8196.319707    1.387531    1.105562    0.850169   \n",
       "min     8638.930895    266.000000    4.000000    1.600000    2.000000   \n",
       "25%    14273.073870  14623.500000    4.000000    2.200000    4.000000   \n",
       "50%    18024.995019  20913.500000    6.000000    2.800000    4.000000   \n",
       "75%    26717.316636  25213.000000    6.000000    3.800000    4.000000   \n",
       "max    70755.466717  50387.000000    8.000000    6.000000    4.000000   \n",
       "\n",
       "           Cruise       Sound     Leather  \n",
       "count  804.000000  804.000000  804.000000  \n",
       "mean     0.752488    0.679104    0.723881  \n",
       "std      0.431836    0.467111    0.447355  \n",
       "min      0.000000    0.000000    0.000000  \n",
       "25%      1.000000    0.000000    0.000000  \n",
       "50%      1.000000    1.000000    1.000000  \n",
       "75%      1.000000    1.000000    1.000000  \n",
       "max      1.000000    1.000000    1.000000  "
      ]
     },
     "execution_count": 8,
     "metadata": {},
     "output_type": "execute_result"
    }
   ],
   "source": [
    "df.describe()  # checking for outliers"
   ]
  },
  {
   "cell_type": "code",
   "execution_count": 9,
   "id": "8b457a9d",
   "metadata": {},
   "outputs": [
    {
     "data": {
      "text/plain": [
       "(2.5, -1.5)"
      ]
     },
     "execution_count": 9,
     "metadata": {},
     "output_type": "execute_result"
    }
   ],
   "source": [
    "# By using IQR method we can find outliers\n",
    "\n",
    "iqr = df['Leather'].quantile(0.75) - df['Leather'].quantile(0.25)  # (q3 - q1)\n",
    "\n",
    "upper_threshold = df['Leather'].quantile(0.75) + (1.5 * iqr)  # (q3 + (1.5 * iqr))\n",
    "\n",
    "lower_threshold = df['Leather'].quantile(0.25) - (1.5 * iqr)  # (q1 - (1.5 * iqr))\n",
    "\n",
    "upper_threshold , lower_threshold"
   ]
  },
  {
   "cell_type": "code",
   "execution_count": 10,
   "id": "ab30755b",
   "metadata": {},
   "outputs": [],
   "source": [
    "# by using clip function we can treat the outlier\n",
    "\n",
    "df.Mileage = df.Mileage.clip(-1260 , 41097)"
   ]
  },
  {
   "cell_type": "code",
   "execution_count": 11,
   "id": "e2cf6493",
   "metadata": {},
   "outputs": [],
   "source": [
    "df.Doors = df.Doors.clip(4 , 4)"
   ]
  },
  {
   "cell_type": "markdown",
   "id": "5dda66d5",
   "metadata": {},
   "source": [
    "# Checked and treated the outliers"
   ]
  },
  {
   "cell_type": "code",
   "execution_count": 12,
   "id": "36de7fe0",
   "metadata": {},
   "outputs": [
    {
     "data": {
      "text/plain": [
       "(804, 12)"
      ]
     },
     "execution_count": 12,
     "metadata": {},
     "output_type": "execute_result"
    }
   ],
   "source": [
    "df.shape  # after deleting the duplicates we checking the rows and columns "
   ]
  },
  {
   "cell_type": "markdown",
   "id": "a459baee",
   "metadata": {},
   "source": [
    "# EDA"
   ]
  },
  {
   "cell_type": "code",
   "execution_count": 13,
   "id": "7cefed1f",
   "metadata": {},
   "outputs": [
    {
     "name": "stderr",
     "output_type": "stream",
     "text": [
      "C:\\ProgramData\\Anaconda3\\lib\\site-packages\\pandas\\core\\arraylike.py:397: RuntimeWarning: overflow encountered in exp\n",
      "  result = getattr(ufunc, method)(*inputs, **kwargs)\n"
     ]
    },
    {
     "data": {
      "image/png": "[encoded data removed]",
      "text/plain": [
       "<Figure size 640x480 with 1 Axes>"
      ]
     },
     "metadata": {},
     "output_type": "display_data"
    }
   ],
   "source": [
    "import matplotlib.pyplot as plt  # importing required package for eda\n",
    "\n",
    "df['Trans'] = np.exp(df['Mileage'])\n",
    "\n",
    "df.groupby('Mileage')['Price'].mean().plot()\n",
    "\n",
    "#df.plot(x = 'Mileage', y = 'Price', style = 'o')\n",
    "\n",
    "plt.title('Mileage vs Price')\n",
    "\n",
    "plt.xlabel('Mileage')\n",
    "\n",
    "plt.ylabel('Price')\n",
    "\n",
    "plt.show()"
   ]
  },
  {
   "cell_type": "markdown",
   "id": "036e11ba",
   "metadata": {},
   "source": [
    "# 1). Tried all the transformatons, 2). There is no linear releation btw mileage and price"
   ]
  },
  {
   "cell_type": "code",
   "execution_count": 14,
   "id": "0ff246d7",
   "metadata": {},
   "outputs": [
    {
     "data": {
      "text/html": [
       "<div>\n",
       "<style scoped>\n",
       "    .dataframe tbody tr th:only-of-type {\n",
       "        vertical-align: middle;\n",
       "    }\n",
       "\n",
       "    .dataframe tbody tr th {\n",
       "        vertical-align: top;\n",
       "    }\n",
       "\n",
       "    .dataframe thead th {\n",
       "        text-align: right;\n",
       "    }\n",
       "</style>\n",
       "<table border=\"1\" class=\"dataframe\">\n",
       "  <thead>\n",
       "    <tr style=\"text-align: right;\">\n",
       "      <th></th>\n",
       "      <th>Trans</th>\n",
       "      <th>Price</th>\n",
       "    </tr>\n",
       "  </thead>\n",
       "  <tbody>\n",
       "    <tr>\n",
       "      <th>Trans</th>\n",
       "      <td>NaN</td>\n",
       "      <td>-0.0</td>\n",
       "    </tr>\n",
       "    <tr>\n",
       "      <th>Price</th>\n",
       "      <td>-0.0</td>\n",
       "      <td>1.0</td>\n",
       "    </tr>\n",
       "  </tbody>\n",
       "</table>\n",
       "</div>"
      ],
      "text/plain": [
       "       Trans  Price\n",
       "Trans    NaN   -0.0\n",
       "Price   -0.0    1.0"
      ]
     },
     "execution_count": 14,
     "metadata": {},
     "output_type": "execute_result"
    }
   ],
   "source": [
    "df[['Trans' , 'Price']].corr()"
   ]
  },
  {
   "cell_type": "markdown",
   "id": "883b951a",
   "metadata": {},
   "source": [
    "# Spliting the data"
   ]
  },
  {
   "cell_type": "code",
   "execution_count": 15,
   "id": "36376727",
   "metadata": {},
   "outputs": [],
   "source": [
    "X = df.loc[ : ,['Mileage']].values\n",
    "\n",
    "y = df.loc[ : ,'Price'].values\n",
    "\n",
    "from sklearn.model_selection import train_test_split  # importing required package\n",
    "\n",
    "X_train, X_test, y_train, y_test = train_test_split(X , y , test_size = 0.3)"
   ]
  },
  {
   "cell_type": "markdown",
   "id": "bc9748ef",
   "metadata": {},
   "source": [
    "# scaling"
   ]
  },
  {
   "cell_type": "code",
   "execution_count": 16,
   "id": "11306f23",
   "metadata": {},
   "outputs": [],
   "source": [
    "from sklearn.preprocessing import StandardScaler  # importing required package for scaling\n",
    "\n",
    "scaler = StandardScaler()  # initialize to a variable\n",
    "\n",
    "scaler.fit(X_train)  # by fitting we are finding the mean and SD of a training data\n",
    "\n",
    "X_train_scaled = scaler.transform(X_train)\n",
    "\n",
    "X_test_scaled = scaler.transform(X_test)  # only fit the X_train not the X_test"
   ]
  },
  {
   "cell_type": "markdown",
   "id": "5b638e83",
   "metadata": {},
   "source": [
    "# Modeling "
   ]
  },
  {
   "cell_type": "code",
   "execution_count": 17,
   "id": "84baefcc",
   "metadata": {},
   "outputs": [
    {
     "data": {
      "text/plain": [
       "LinearRegression()"
      ]
     },
     "execution_count": 17,
     "metadata": {},
     "output_type": "execute_result"
    }
   ],
   "source": [
    "from sklearn.linear_model import LinearRegression  # importing the required package for linear model\n",
    "\n",
    "regressor = LinearRegression()  # initialize the model to a variable\n",
    "\n",
    "regressor.fit(X_train_scaled , y_train)  # learning happens and GD is done and getting the final values of M and C"
   ]
  },
  {
   "cell_type": "code",
   "execution_count": 18,
   "id": "8220cc8a",
   "metadata": {},
   "outputs": [
    {
     "data": {
      "text/plain": [
       "21273.422670078122"
      ]
     },
     "execution_count": 18,
     "metadata": {},
     "output_type": "execute_result"
    }
   ],
   "source": [
    "regressor.intercept_  # C"
   ]
  },
  {
   "cell_type": "code",
   "execution_count": 19,
   "id": "4522f6cc",
   "metadata": {},
   "outputs": [
    {
     "data": {
      "text/plain": [
       "array([-1470.7429138])"
      ]
     },
     "execution_count": 19,
     "metadata": {},
     "output_type": "execute_result"
    }
   ],
   "source": [
    "regressor.coef_  # slope - m"
   ]
  },
  {
   "cell_type": "code",
   "execution_count": 20,
   "id": "cda32d4c",
   "metadata": {},
   "outputs": [
    {
     "data": {
      "text/html": [
       "<div>\n",
       "<style scoped>\n",
       "    .dataframe tbody tr th:only-of-type {\n",
       "        vertical-align: middle;\n",
       "    }\n",
       "\n",
       "    .dataframe tbody tr th {\n",
       "        vertical-align: top;\n",
       "    }\n",
       "\n",
       "    .dataframe thead th {\n",
       "        text-align: right;\n",
       "    }\n",
       "</style>\n",
       "<table border=\"1\" class=\"dataframe\">\n",
       "  <thead>\n",
       "    <tr style=\"text-align: right;\">\n",
       "      <th></th>\n",
       "      <th>Coefficient</th>\n",
       "    </tr>\n",
       "  </thead>\n",
       "  <tbody>\n",
       "    <tr>\n",
       "      <th>Mileage</th>\n",
       "      <td>-1470.742914</td>\n",
       "    </tr>\n",
       "  </tbody>\n",
       "</table>\n",
       "</div>"
      ],
      "text/plain": [
       "         Coefficient\n",
       "Mileage -1470.742914"
      ]
     },
     "execution_count": 20,
     "metadata": {},
     "output_type": "execute_result"
    }
   ],
   "source": [
    "coeff_df = pd.DataFrame(regressor.coef_, ['Mileage'], columns = ['Coefficient'])\n",
    "\n",
    "coeff_df"
   ]
  },
  {
   "cell_type": "code",
   "execution_count": 21,
   "id": "c6312b70",
   "metadata": {},
   "outputs": [
    {
     "data": {
      "text/plain": [
       "array([20260.43545616, 20209.54856925, 21468.29225798, 21592.68242598,\n",
       "       20904.29592805, 22433.1995129 , 22067.98008497, 21594.62602235,\n",
       "       20438.18617919, 21357.15388344, 19961.47499556, 22673.32201051,\n",
       "       21257.14701541, 20238.70251488, 21182.0535191 , 21112.26074018,\n",
       "       20329.16809161, 20613.46323411, 21948.36056262, 19882.14092535,\n",
       "       20559.74929792, 18993.91738194, 21749.7603512 , 19296.41165413,\n",
       "       20926.91232223, 21370.93574864, 21404.1535776 , 22932.17370956,\n",
       "       20254.9580482 , 22668.90474603, 21968.67997926, 20816.65740059,\n",
       "       21680.14426286, 21095.47513512, 22000.48428358, 21190.18128576,\n",
       "       22616.4276439 , 21129.22303582, 20292.59314164, 21025.15228446,\n",
       "       21143.00490102, 19981.44103105, 20958.18655481, 22526.66882949,\n",
       "       23729.22491391, 19652.44317193, 22295.0274797 , 21257.50039657,\n",
       "       22053.13807629, 20877.26226938, 22441.15058898, 21044.76493879,\n",
       "       22635.33353591, 21594.09595062, 21522.71295648, 21686.85850488,\n",
       "       23078.82689058, 20707.28593185, 20982.21647363, 21547.09625646,\n",
       "       20451.61466324, 18917.76374216, 18625.69421416, 20312.20579597,\n",
       "       20491.37004364, 21391.07847471, 23859.09248988, 20181.80814826,\n",
       "       21045.29501053, 23521.9668641 , 19074.48828622, 20540.13664359,\n",
       "       21716.01245051, 22552.81903526, 21746.57992077, 22779.6897394 ,\n",
       "       20735.90980574, 19278.5659056 , 21238.94788572, 21360.33431387,\n",
       "       22718.20141772, 22486.91344909, 22671.37841414, 24112.29009038,\n",
       "       23287.32177445, 21154.66647927, 20961.54367582, 21364.3981972 ,\n",
       "       20308.14191264, 21012.07718157, 22202.61830659, 19216.3708216 ,\n",
       "       20766.65396658, 24284.21002428, 21810.18852941, 21268.10183134,\n",
       "       21029.39285837, 23232.01762306, 20776.37194845, 20871.60817083,\n",
       "       20121.55666064, 19799.6264247 , 24513.37770596, 23837.88962034,\n",
       "       22258.45252973, 21559.99466876, 21529.78057966, 23195.44267309,\n",
       "       21569.1825789 , 22098.54755523, 19489.71114816, 18818.64032703,\n",
       "       20451.43797266, 20332.34852204, 24706.50050941, 21305.73692479,\n",
       "       22366.05709268, 22431.78598827, 20880.61939039, 20703.75212026,\n",
       "       23004.97022833, 24502.59958061, 20511.86615087, 23192.79231439,\n",
       "       21622.01306219, 20635.90293771, 20765.24044194, 19868.18236956,\n",
       "       17942.25505245, 23262.7617839 , 20203.18770839, 21308.2105929 ,\n",
       "       21352.55992837, 23415.06906347, 22125.58121391, 24697.13590869,\n",
       "       24069.53097013, 21689.86224473, 23976.23834412, 22829.869864  ,\n",
       "       20251.60092719, 21209.61724951, 21870.61670761, 21432.60076091,\n",
       "       21248.13579586, 20190.28929608, 20710.2896717 , 19919.77601879,\n",
       "       21580.13739483, 22549.46191425, 19620.46217703, 19611.27426689,\n",
       "       21240.36141035, 24493.76505163, 21017.55458954, 20928.32584687,\n",
       "       23040.6617254 , 19189.86723466, 21700.81706067, 20564.16656241,\n",
       "       21999.60083069, 20348.95743652, 21052.00925255, 21025.32897504,\n",
       "       22969.45542184, 20764.88706078, 24300.81893876, 21953.66128   ,\n",
       "       21185.23394953, 20575.4747595 , 20171.03002291, 20239.93934894,\n",
       "       22326.30171228, 21351.85316605, 20388.71281692, 22751.59593726,\n",
       "       23488.57234456, 19257.18634547, 20269.09329456, 20888.92384763,\n",
       "       23561.19217276, 21702.76065704, 23000.72965442, 19195.52133321,\n",
       "       22117.98351899, 20610.45949426, 21326.05634144, 20994.23143304,\n",
       "       22224.52793845, 22534.08983383, 22615.01411926, 19939.91874486,\n",
       "       20420.16374008, 21069.50161993, 21006.24639245, 20003.70404408,\n",
       "       20380.05497852, 20495.61061755, 21185.58733069, 19639.54475962,\n",
       "       23458.71163662, 22676.67913153, 20604.62870513, 21729.61762513,\n",
       "       22319.05739851, 20670.35760072, 21192.30157272, 19498.8990583 ,\n",
       "       17548.05836948, 20991.05100261, 23760.67583707, 22375.42169339,\n",
       "       20198.41706274, 20077.91408749, 19497.66222424, 20486.06932625,\n",
       "       19420.09505982, 22140.77660375, 22271.70432319, 21121.97872206,\n",
       "       23040.13165366, 21076.39255253, 20389.7729604 , 22915.91817624,\n",
       "       21464.75844638, 24644.83549715, 21468.29225798, 20647.91789712,\n",
       "       20595.08741383, 23335.02823093, 19271.32159184, 20979.74280552,\n",
       "       21745.16639613, 21114.91109887, 23810.67927109, 23625.86092487,\n",
       "       21962.84919014, 21892.70303006, 19819.94584134, 22168.34033416,\n",
       "       20882.56298676, 19296.94172587])"
      ]
     },
     "execution_count": 21,
     "metadata": {},
     "output_type": "execute_result"
    }
   ],
   "source": [
    "y_pred = regressor.predict(X_test_scaled)\n",
    "\n",
    "y_pred"
   ]
  },
  {
   "cell_type": "code",
   "execution_count": 22,
   "id": "0b4404a9",
   "metadata": {},
   "outputs": [
    {
     "data": {
      "text/html": [
       "<div>\n",
       "<style scoped>\n",
       "    .dataframe tbody tr th:only-of-type {\n",
       "        vertical-align: middle;\n",
       "    }\n",
       "\n",
       "    .dataframe tbody tr th {\n",
       "        vertical-align: top;\n",
       "    }\n",
       "\n",
       "    .dataframe thead th {\n",
       "        text-align: right;\n",
       "    }\n",
       "</style>\n",
       "<table border=\"1\" class=\"dataframe\">\n",
       "  <thead>\n",
       "    <tr style=\"text-align: right;\">\n",
       "      <th></th>\n",
       "      <th>Actual</th>\n",
       "      <th>Predicted</th>\n",
       "    </tr>\n",
       "  </thead>\n",
       "  <tbody>\n",
       "    <tr>\n",
       "      <th>0</th>\n",
       "      <td>11013.871368</td>\n",
       "      <td>20260.435456</td>\n",
       "    </tr>\n",
       "    <tr>\n",
       "      <th>1</th>\n",
       "      <td>13825.154711</td>\n",
       "      <td>20209.548569</td>\n",
       "    </tr>\n",
       "    <tr>\n",
       "      <th>2</th>\n",
       "      <td>14508.750085</td>\n",
       "      <td>21468.292258</td>\n",
       "    </tr>\n",
       "    <tr>\n",
       "      <th>3</th>\n",
       "      <td>15568.974237</td>\n",
       "      <td>21592.682426</td>\n",
       "    </tr>\n",
       "    <tr>\n",
       "      <th>4</th>\n",
       "      <td>22230.027503</td>\n",
       "      <td>20904.295928</td>\n",
       "    </tr>\n",
       "    <tr>\n",
       "      <th>...</th>\n",
       "      <td>...</td>\n",
       "      <td>...</td>\n",
       "    </tr>\n",
       "    <tr>\n",
       "      <th>237</th>\n",
       "      <td>21895.758784</td>\n",
       "      <td>21892.703030</td>\n",
       "    </tr>\n",
       "    <tr>\n",
       "      <th>238</th>\n",
       "      <td>16295.211438</td>\n",
       "      <td>19819.945841</td>\n",
       "    </tr>\n",
       "    <tr>\n",
       "      <th>239</th>\n",
       "      <td>23527.728502</td>\n",
       "      <td>22168.340334</td>\n",
       "    </tr>\n",
       "    <tr>\n",
       "      <th>240</th>\n",
       "      <td>10386.040218</td>\n",
       "      <td>20882.562987</td>\n",
       "    </tr>\n",
       "    <tr>\n",
       "      <th>241</th>\n",
       "      <td>12379.126473</td>\n",
       "      <td>19296.941726</td>\n",
       "    </tr>\n",
       "  </tbody>\n",
       "</table>\n",
       "<p>242 rows × 2 columns</p>\n",
       "</div>"
      ],
      "text/plain": [
       "           Actual     Predicted\n",
       "0    11013.871368  20260.435456\n",
       "1    13825.154711  20209.548569\n",
       "2    14508.750085  21468.292258\n",
       "3    15568.974237  21592.682426\n",
       "4    22230.027503  20904.295928\n",
       "..            ...           ...\n",
       "237  21895.758784  21892.703030\n",
       "238  16295.211438  19819.945841\n",
       "239  23527.728502  22168.340334\n",
       "240  10386.040218  20882.562987\n",
       "241  12379.126473  19296.941726\n",
       "\n",
       "[242 rows x 2 columns]"
      ]
     },
     "execution_count": 22,
     "metadata": {},
     "output_type": "execute_result"
    }
   ],
   "source": [
    "df_ = pd.DataFrame({'Actual' : y_test , 'Predicted' : y_pred})\n",
    "\n",
    "df_"
   ]
  },
  {
   "cell_type": "markdown",
   "id": "89b7ddb3",
   "metadata": {},
   "source": [
    "# Evaluating the model"
   ]
  },
  {
   "cell_type": "code",
   "execution_count": 23,
   "id": "65618ec6",
   "metadata": {},
   "outputs": [
    {
     "name": "stdout",
     "output_type": "stream",
     "text": [
      "R2_Score : 0.017248806411415796\n"
     ]
    }
   ],
   "source": [
    "from sklearn.metrics import r2_score \n",
    "\n",
    "print('R2_Score :' , r2_score(y_test , y_pred))"
   ]
  },
  {
   "cell_type": "markdown",
   "id": "00bd6754",
   "metadata": {},
   "source": [
    "# 1). Hence there is less r2 score, 2). This Mileage feature is not fit for the simple linear regression, 3). We are considering to drop the feature"
   ]
  },
  {
   "cell_type": "markdown",
   "id": "1f2a396c",
   "metadata": {},
   "source": [
    "# Task, Part 2"
   ]
  },
  {
   "cell_type": "markdown",
   "id": "f4a4f0ea",
   "metadata": {},
   "source": [
    "# Multiple_Linear_Regression"
   ]
  },
  {
   "cell_type": "markdown",
   "id": "b7fcbf09",
   "metadata": {},
   "source": [
    "# EDA"
   ]
  },
  {
   "cell_type": "code",
   "execution_count": 24,
   "id": "3e4fdfc1",
   "metadata": {},
   "outputs": [
    {
     "data": {
      "image/png": "[encoded data removed]",
      "text/plain": [
       "<Figure size 640x480 with 1 Axes>"
      ]
     },
     "metadata": {},
     "output_type": "display_data"
    }
   ],
   "source": [
    "#df.plot(x = 'Cylinder', y = 'Price', style = 'o')\n",
    "\n",
    "df.groupby('Cylinder')['Price'].mean().plot()\n",
    "\n",
    "plt.title('Cylinder  vs Price')\n",
    "\n",
    "plt.xlabel('Cylinder')\n",
    "\n",
    "plt.ylabel('Price')\n",
    "\n",
    "plt.show()"
   ]
  },
  {
   "cell_type": "markdown",
   "id": "2ecd66dd",
   "metadata": {},
   "source": [
    "# 1). There is linear releaton btw cylinder and price, 2). There is strong cor-releation, 3). No transformation is required"
   ]
  },
  {
   "cell_type": "code",
   "execution_count": 25,
   "id": "63cb110a",
   "metadata": {},
   "outputs": [
    {
     "data": {
      "text/html": [
       "<div>\n",
       "<style scoped>\n",
       "    .dataframe tbody tr th:only-of-type {\n",
       "        vertical-align: middle;\n",
       "    }\n",
       "\n",
       "    .dataframe tbody tr th {\n",
       "        vertical-align: top;\n",
       "    }\n",
       "\n",
       "    .dataframe thead th {\n",
       "        text-align: right;\n",
       "    }\n",
       "</style>\n",
       "<table border=\"1\" class=\"dataframe\">\n",
       "  <thead>\n",
       "    <tr style=\"text-align: right;\">\n",
       "      <th></th>\n",
       "      <th>Cylinder</th>\n",
       "      <th>Price</th>\n",
       "    </tr>\n",
       "  </thead>\n",
       "  <tbody>\n",
       "    <tr>\n",
       "      <th>Cylinder</th>\n",
       "      <td>1.000000</td>\n",
       "      <td>0.569086</td>\n",
       "    </tr>\n",
       "    <tr>\n",
       "      <th>Price</th>\n",
       "      <td>0.569086</td>\n",
       "      <td>1.000000</td>\n",
       "    </tr>\n",
       "  </tbody>\n",
       "</table>\n",
       "</div>"
      ],
      "text/plain": [
       "          Cylinder     Price\n",
       "Cylinder  1.000000  0.569086\n",
       "Price     0.569086  1.000000"
      ]
     },
     "execution_count": 25,
     "metadata": {},
     "output_type": "execute_result"
    }
   ],
   "source": [
    "df[['Cylinder' , 'Price']].corr()"
   ]
  },
  {
   "cell_type": "code",
   "execution_count": 26,
   "id": "9c77b3be",
   "metadata": {},
   "outputs": [
    {
     "data": {
      "image/png": "[encoded data removed]",
      "text/plain": [
       "<Figure size 640x480 with 1 Axes>"
      ]
     },
     "metadata": {},
     "output_type": "display_data"
    }
   ],
   "source": [
    "#df.plot(x = 'Liter', y = 'Price', style = 'o')\n",
    "\n",
    "df.groupby('Liter')['Price'].mean().plot()\n",
    "\n",
    "plt.title('Liter  vs Price')\n",
    "\n",
    "plt.xlabel('Liter')\n",
    "\n",
    "plt.ylabel('Price')\n",
    "\n",
    "plt.show()"
   ]
  },
  {
   "cell_type": "markdown",
   "id": "5c0d17ea",
   "metadata": {},
   "source": [
    "# 1). There is linear releaton btw Liter and price, 2). There is strong cor-releation, 3). No transformation is required"
   ]
  },
  {
   "cell_type": "code",
   "execution_count": 27,
   "id": "33615402",
   "metadata": {},
   "outputs": [
    {
     "data": {
      "text/html": [
       "<div>\n",
       "<style scoped>\n",
       "    .dataframe tbody tr th:only-of-type {\n",
       "        vertical-align: middle;\n",
       "    }\n",
       "\n",
       "    .dataframe tbody tr th {\n",
       "        vertical-align: top;\n",
       "    }\n",
       "\n",
       "    .dataframe thead th {\n",
       "        text-align: right;\n",
       "    }\n",
       "</style>\n",
       "<table border=\"1\" class=\"dataframe\">\n",
       "  <thead>\n",
       "    <tr style=\"text-align: right;\">\n",
       "      <th></th>\n",
       "      <th>Liter</th>\n",
       "      <th>Price</th>\n",
       "    </tr>\n",
       "  </thead>\n",
       "  <tbody>\n",
       "    <tr>\n",
       "      <th>Liter</th>\n",
       "      <td>1.000000</td>\n",
       "      <td>0.558146</td>\n",
       "    </tr>\n",
       "    <tr>\n",
       "      <th>Price</th>\n",
       "      <td>0.558146</td>\n",
       "      <td>1.000000</td>\n",
       "    </tr>\n",
       "  </tbody>\n",
       "</table>\n",
       "</div>"
      ],
      "text/plain": [
       "          Liter     Price\n",
       "Liter  1.000000  0.558146\n",
       "Price  0.558146  1.000000"
      ]
     },
     "execution_count": 27,
     "metadata": {},
     "output_type": "execute_result"
    }
   ],
   "source": [
    "df[['Liter', 'Price']].corr()"
   ]
  },
  {
   "cell_type": "code",
   "execution_count": 28,
   "id": "b3c2ab7d",
   "metadata": {},
   "outputs": [
    {
     "data": {
      "image/png": "[encoded data removed]",
      "text/plain": [
       "<Figure size 640x480 with 1 Axes>"
      ]
     },
     "metadata": {},
     "output_type": "display_data"
    }
   ],
   "source": [
    "df['Trans'] = np.square(df['Doors'])\n",
    "\n",
    "df.plot(x = 'Trans', y = 'Price', style = 'o')\n",
    "\n",
    "plt.title('Doors  vs Price')\n",
    "\n",
    "plt.xlabel('Doors')\n",
    "\n",
    "plt.ylabel('Price')\n",
    "\n",
    "plt.show()"
   ]
  },
  {
   "cell_type": "markdown",
   "id": "fbe247f2",
   "metadata": {},
   "source": [
    "# 1). There is no linear releaton btw Doors and price, 2). There is poor cor-releation, 3). All transformations are tried"
   ]
  },
  {
   "cell_type": "code",
   "execution_count": 29,
   "id": "1e4c6ca2",
   "metadata": {},
   "outputs": [
    {
     "data": {
      "text/html": [
       "<div>\n",
       "<style scoped>\n",
       "    .dataframe tbody tr th:only-of-type {\n",
       "        vertical-align: middle;\n",
       "    }\n",
       "\n",
       "    .dataframe tbody tr th {\n",
       "        vertical-align: top;\n",
       "    }\n",
       "\n",
       "    .dataframe thead th {\n",
       "        text-align: right;\n",
       "    }\n",
       "</style>\n",
       "<table border=\"1\" class=\"dataframe\">\n",
       "  <thead>\n",
       "    <tr style=\"text-align: right;\">\n",
       "      <th></th>\n",
       "      <th>Trans</th>\n",
       "      <th>Price</th>\n",
       "    </tr>\n",
       "  </thead>\n",
       "  <tbody>\n",
       "    <tr>\n",
       "      <th>Trans</th>\n",
       "      <td>NaN</td>\n",
       "      <td>NaN</td>\n",
       "    </tr>\n",
       "    <tr>\n",
       "      <th>Price</th>\n",
       "      <td>NaN</td>\n",
       "      <td>1.0</td>\n",
       "    </tr>\n",
       "  </tbody>\n",
       "</table>\n",
       "</div>"
      ],
      "text/plain": [
       "       Trans  Price\n",
       "Trans    NaN    NaN\n",
       "Price    NaN    1.0"
      ]
     },
     "execution_count": 29,
     "metadata": {},
     "output_type": "execute_result"
    }
   ],
   "source": [
    "df[['Trans' , 'Price']].corr()"
   ]
  },
  {
   "cell_type": "code",
   "execution_count": 30,
   "id": "b120840a",
   "metadata": {},
   "outputs": [
    {
     "data": {
      "image/png": "[encoded data removed]",
      "text/plain": [
       "<Figure size 640x480 with 1 Axes>"
      ]
     },
     "metadata": {},
     "output_type": "display_data"
    }
   ],
   "source": [
    "#df.plot(x = 'Cruise', y = 'Price', style = 'o')\n",
    "\n",
    "df.groupby('Cruise')['Price'].mean().plot()\n",
    "\n",
    "plt.title('Cruise  vs Price')\n",
    "\n",
    "plt.xlabel('Cruise')\n",
    "\n",
    "plt.ylabel('Price')\n",
    "\n",
    "plt.show()"
   ]
  },
  {
   "cell_type": "markdown",
   "id": "fc82d2b0",
   "metadata": {},
   "source": [
    "# 1). There is linear releaton btw Cruise and price, 2). There is strong cor-releation, 3). No transformation is required"
   ]
  },
  {
   "cell_type": "code",
   "execution_count": 31,
   "id": "7bf03ebb",
   "metadata": {},
   "outputs": [
    {
     "data": {
      "text/html": [
       "<div>\n",
       "<style scoped>\n",
       "    .dataframe tbody tr th:only-of-type {\n",
       "        vertical-align: middle;\n",
       "    }\n",
       "\n",
       "    .dataframe tbody tr th {\n",
       "        vertical-align: top;\n",
       "    }\n",
       "\n",
       "    .dataframe thead th {\n",
       "        text-align: right;\n",
       "    }\n",
       "</style>\n",
       "<table border=\"1\" class=\"dataframe\">\n",
       "  <thead>\n",
       "    <tr style=\"text-align: right;\">\n",
       "      <th></th>\n",
       "      <th>Cruise</th>\n",
       "      <th>Price</th>\n",
       "    </tr>\n",
       "  </thead>\n",
       "  <tbody>\n",
       "    <tr>\n",
       "      <th>Cruise</th>\n",
       "      <td>1.000000</td>\n",
       "      <td>0.430851</td>\n",
       "    </tr>\n",
       "    <tr>\n",
       "      <th>Price</th>\n",
       "      <td>0.430851</td>\n",
       "      <td>1.000000</td>\n",
       "    </tr>\n",
       "  </tbody>\n",
       "</table>\n",
       "</div>"
      ],
      "text/plain": [
       "          Cruise     Price\n",
       "Cruise  1.000000  0.430851\n",
       "Price   0.430851  1.000000"
      ]
     },
     "execution_count": 31,
     "metadata": {},
     "output_type": "execute_result"
    }
   ],
   "source": [
    "df[['Cruise' , 'Price']].corr()"
   ]
  },
  {
   "cell_type": "code",
   "execution_count": 32,
   "id": "1b3fc9ac",
   "metadata": {},
   "outputs": [
    {
     "data": {
      "image/png": "[encoded data removed]",
      "text/plain": [
       "<Figure size 640x480 with 1 Axes>"
      ]
     },
     "metadata": {},
     "output_type": "display_data"
    }
   ],
   "source": [
    "df['Trans_'] = np.power(df['Sound'],0.5)\n",
    "\n",
    "df.groupby('Trans_')['Price'].mean().plot()\n",
    "\n",
    "plt.title('Sound  vs Price')\n",
    "\n",
    "plt.xlabel('Sound')\n",
    "\n",
    "plt.ylabel('Price')\n",
    "\n",
    "plt.show()"
   ]
  },
  {
   "cell_type": "markdown",
   "id": "72689f49",
   "metadata": {},
   "source": [
    "# 1). There is no linear releaton btw Sound and price, 2). There is poor cor-releation, 3). All transformations are tried"
   ]
  },
  {
   "cell_type": "code",
   "execution_count": 33,
   "id": "93128b4f",
   "metadata": {},
   "outputs": [
    {
     "data": {
      "text/html": [
       "<div>\n",
       "<style scoped>\n",
       "    .dataframe tbody tr th:only-of-type {\n",
       "        vertical-align: middle;\n",
       "    }\n",
       "\n",
       "    .dataframe tbody tr th {\n",
       "        vertical-align: top;\n",
       "    }\n",
       "\n",
       "    .dataframe thead th {\n",
       "        text-align: right;\n",
       "    }\n",
       "</style>\n",
       "<table border=\"1\" class=\"dataframe\">\n",
       "  <thead>\n",
       "    <tr style=\"text-align: right;\">\n",
       "      <th></th>\n",
       "      <th>Trans_</th>\n",
       "      <th>Price</th>\n",
       "    </tr>\n",
       "  </thead>\n",
       "  <tbody>\n",
       "    <tr>\n",
       "      <th>Trans_</th>\n",
       "      <td>1.000000</td>\n",
       "      <td>-0.124348</td>\n",
       "    </tr>\n",
       "    <tr>\n",
       "      <th>Price</th>\n",
       "      <td>-0.124348</td>\n",
       "      <td>1.000000</td>\n",
       "    </tr>\n",
       "  </tbody>\n",
       "</table>\n",
       "</div>"
      ],
      "text/plain": [
       "          Trans_     Price\n",
       "Trans_  1.000000 -0.124348\n",
       "Price  -0.124348  1.000000"
      ]
     },
     "execution_count": 33,
     "metadata": {},
     "output_type": "execute_result"
    }
   ],
   "source": [
    "df[['Trans_' , 'Price']].corr()"
   ]
  },
  {
   "cell_type": "code",
   "execution_count": 34,
   "id": "dae923ae",
   "metadata": {},
   "outputs": [
    {
     "data": {
      "image/png": "[encoded data removed]",
      "text/plain": [
       "<Figure size 640x480 with 1 Axes>"
      ]
     },
     "metadata": {},
     "output_type": "display_data"
    }
   ],
   "source": [
    "df['Trans_1'] = np.exp(df['Leather'])\n",
    "\n",
    "df.groupby('Trans_1')['Price'].mean().plot()\n",
    "\n",
    "plt.title('Leather  vs Price')\n",
    "\n",
    "plt.xlabel('Leather')\n",
    "\n",
    "plt.ylabel('Price')\n",
    "\n",
    "plt.show()"
   ]
  },
  {
   "cell_type": "markdown",
   "id": "621d5e0a",
   "metadata": {},
   "source": [
    "# 1). There is no linear releaton btw Doors and price, 2). There is poor cor-releation, 3). All transformations are tried"
   ]
  },
  {
   "cell_type": "code",
   "execution_count": 35,
   "id": "b8becfcd",
   "metadata": {},
   "outputs": [
    {
     "data": {
      "text/html": [
       "<div>\n",
       "<style scoped>\n",
       "    .dataframe tbody tr th:only-of-type {\n",
       "        vertical-align: middle;\n",
       "    }\n",
       "\n",
       "    .dataframe tbody tr th {\n",
       "        vertical-align: top;\n",
       "    }\n",
       "\n",
       "    .dataframe thead th {\n",
       "        text-align: right;\n",
       "    }\n",
       "</style>\n",
       "<table border=\"1\" class=\"dataframe\">\n",
       "  <thead>\n",
       "    <tr style=\"text-align: right;\">\n",
       "      <th></th>\n",
       "      <th>Trans_1</th>\n",
       "      <th>Price</th>\n",
       "    </tr>\n",
       "  </thead>\n",
       "  <tbody>\n",
       "    <tr>\n",
       "      <th>Trans_1</th>\n",
       "      <td>1.000000</td>\n",
       "      <td>0.157197</td>\n",
       "    </tr>\n",
       "    <tr>\n",
       "      <th>Price</th>\n",
       "      <td>0.157197</td>\n",
       "      <td>1.000000</td>\n",
       "    </tr>\n",
       "  </tbody>\n",
       "</table>\n",
       "</div>"
      ],
      "text/plain": [
       "          Trans_1     Price\n",
       "Trans_1  1.000000  0.157197\n",
       "Price    0.157197  1.000000"
      ]
     },
     "execution_count": 35,
     "metadata": {},
     "output_type": "execute_result"
    }
   ],
   "source": [
    "df[['Trans_1' , 'Price']].corr()"
   ]
  },
  {
   "cell_type": "markdown",
   "id": "ccbab66f",
   "metadata": {},
   "source": [
    "# Spliting The Data "
   ]
  },
  {
   "cell_type": "code",
   "execution_count": 36,
   "id": "9eb8f121",
   "metadata": {},
   "outputs": [],
   "source": [
    "X = df[['Cylinder', 'Liter', 'Cruise']].values  # Array of Features\n",
    "\n",
    "y = df['Price'].values  # Target Variable\n",
    "\n",
    "from sklearn.model_selection import train_test_split\n",
    "\n",
    "X_train, X_test, y_train, y_test = train_test_split(X, y, test_size=0.3)"
   ]
  },
  {
   "cell_type": "markdown",
   "id": "2f407b1e",
   "metadata": {},
   "source": [
    "# Scaling the data"
   ]
  },
  {
   "cell_type": "code",
   "execution_count": 37,
   "id": "daeeb6f6",
   "metadata": {},
   "outputs": [],
   "source": [
    "from sklearn.preprocessing import StandardScaler  # importing required package to train and split\n",
    "\n",
    "scaler = StandardScaler()  # initialize the standardscaler\n",
    "\n",
    "scaler.fit(X_train)  # we are finding the mean and sd from the TD\n",
    "\n",
    "X_train_scaled = scaler.transform(X_train)\n",
    "\n",
    "X_test_scaled = scaler.transform(X_test)  # only fit the x_train not the X_test "
   ]
  },
  {
   "cell_type": "markdown",
   "id": "76a14c2d",
   "metadata": {},
   "source": [
    "# Model Traning"
   ]
  },
  {
   "cell_type": "code",
   "execution_count": 38,
   "id": "24f0aff9",
   "metadata": {},
   "outputs": [
    {
     "data": {
      "text/plain": [
       "LinearRegression()"
      ]
     },
     "execution_count": 38,
     "metadata": {},
     "output_type": "execute_result"
    }
   ],
   "source": [
    "from sklearn.linear_model import LinearRegression  # importing the required package for linear model\n",
    "\n",
    "regressor = LinearRegression()  # initialize the linear model to variable\n",
    "\n",
    "regressor.fit(X_train_scaled , y_train)"
   ]
  },
  {
   "cell_type": "code",
   "execution_count": 39,
   "id": "e952f7cd",
   "metadata": {},
   "outputs": [
    {
     "data": {
      "text/plain": [
       "21348.520925212506"
      ]
     },
     "execution_count": 39,
     "metadata": {},
     "output_type": "execute_result"
    }
   ],
   "source": [
    "regressor.intercept_"
   ]
  },
  {
   "cell_type": "code",
   "execution_count": 40,
   "id": "7b2a07e4",
   "metadata": {},
   "outputs": [
    {
     "data": {
      "text/html": [
       "<div>\n",
       "<style scoped>\n",
       "    .dataframe tbody tr th:only-of-type {\n",
       "        vertical-align: middle;\n",
       "    }\n",
       "\n",
       "    .dataframe tbody tr th {\n",
       "        vertical-align: top;\n",
       "    }\n",
       "\n",
       "    .dataframe thead th {\n",
       "        text-align: right;\n",
       "    }\n",
       "</style>\n",
       "<table border=\"1\" class=\"dataframe\">\n",
       "  <thead>\n",
       "    <tr style=\"text-align: right;\">\n",
       "      <th></th>\n",
       "      <th>Coefficient</th>\n",
       "    </tr>\n",
       "  </thead>\n",
       "  <tbody>\n",
       "    <tr>\n",
       "      <th>Cylinder</th>\n",
       "      <td>4839.849421</td>\n",
       "    </tr>\n",
       "    <tr>\n",
       "      <th>Liter</th>\n",
       "      <td>167.410659</td>\n",
       "    </tr>\n",
       "    <tr>\n",
       "      <th>Cruise</th>\n",
       "      <td>2314.842413</td>\n",
       "    </tr>\n",
       "  </tbody>\n",
       "</table>\n",
       "</div>"
      ],
      "text/plain": [
       "          Coefficient\n",
       "Cylinder  4839.849421\n",
       "Liter      167.410659\n",
       "Cruise    2314.842413"
      ]
     },
     "execution_count": 40,
     "metadata": {},
     "output_type": "execute_result"
    }
   ],
   "source": [
    "coef_df = pd.DataFrame(regressor.coef_ , ['Cylinder', 'Liter', 'Cruise'], columns = ['Coefficient'])\n",
    "\n",
    "coef_df"
   ]
  },
  {
   "cell_type": "code",
   "execution_count": 41,
   "id": "b5ef3b95",
   "metadata": {},
   "outputs": [
    {
     "data": {
      "text/plain": [
       "array([17935.30264819, 17965.69859317, 17965.69859317, 25210.49497524,\n",
       "       19675.25686281, 25210.49497524, 32333.7075774 , 12415.26250825,\n",
       "       19675.25686281, 12476.0543982 , 12476.0543982 , 17980.89656565,\n",
       "       19675.25686281, 17935.30264819, 17965.69859317, 17965.69859317,\n",
       "       25164.90105777, 12384.86656327, 25164.90105777, 32333.7075774 ,\n",
       "       12476.0543982 , 19675.25686281, 12476.0543982 , 25210.49497524,\n",
       "       25210.49497524, 25180.09903026, 25210.49497524, 17935.30264819,\n",
       "       17980.89656565, 32546.47919224, 25164.90105777, 17874.51075823,\n",
       "       25180.09903026, 25104.10916782, 25180.09903026, 12476.0543982 ,\n",
       "       17965.69859317, 32500.88527477, 17965.69859317, 25210.49497524,\n",
       "       25210.49497524, 19675.25686281, 17965.69859317, 17980.89656565,\n",
       "       25210.49497524, 17935.30264819, 17965.69859317, 25164.90105777,\n",
       "       19675.25686281, 12476.0543982 , 17980.89656565, 12476.0543982 ,\n",
       "       17935.30264819, 25058.51525035, 12476.0543982 , 25210.49497524,\n",
       "       17874.51075823, 17935.30264819, 25210.49497524, 17980.89656565,\n",
       "       17935.30264819, 32500.88527477, 12415.26250825, 25210.49497524,\n",
       "       17965.69859317, 17980.89656565, 12384.86656327, 12476.0543982 ,\n",
       "       32333.7075774 , 25058.51525035, 19675.25686281, 17874.51075823,\n",
       "       17935.30264819, 17965.69859317, 17965.69859317, 12476.0543982 ,\n",
       "       12415.26250825, 12476.0543982 , 25180.09903026, 25210.49497524,\n",
       "       25164.90105777, 17935.30264819, 17935.30264819, 25210.49497524,\n",
       "       25210.49497524, 32500.88527477, 17965.69859317, 25149.70308528,\n",
       "       25210.49497524, 32333.7075774 , 12476.0543982 , 17965.69859317,\n",
       "       25210.49497524, 12415.26250825, 17980.89656565, 19675.25686281,\n",
       "       25058.51525035, 12476.0543982 , 12476.0543982 , 19660.05889032,\n",
       "       19675.25686281, 17980.89656565, 25210.49497524, 12476.0543982 ,\n",
       "       19675.25686281, 18011.29251063, 25088.91119533, 32333.7075774 ,\n",
       "       17965.69859317, 17980.89656565, 32546.47919224, 17904.90670321,\n",
       "       17935.30264819, 12476.0543982 , 19675.25686281, 25164.90105777,\n",
       "       32333.7075774 , 12476.0543982 , 25210.49497524, 25210.49497524,\n",
       "       17874.51075823, 17980.89656565, 12415.26250825, 32333.7075774 ,\n",
       "       32333.7075774 , 17935.30264819, 17965.69859317, 12384.86656327,\n",
       "       25058.51525035, 12476.0543982 , 17965.69859317, 25164.90105777,\n",
       "       25058.51525035, 25180.09903026, 12384.86656327, 25210.49497524,\n",
       "       17980.89656565, 25210.49497524, 25164.90105777, 32546.47919224,\n",
       "       17980.89656565, 12476.0543982 , 25210.49497524, 17965.69859317,\n",
       "       32333.7075774 , 25210.49497524, 12476.0543982 , 19675.25686281,\n",
       "       12476.0543982 , 12384.86656327, 32546.47919224, 17904.90670321,\n",
       "       12476.0543982 , 12476.0543982 , 25210.49497524, 12476.0543982 ,\n",
       "       17935.30264819, 12476.0543982 , 12476.0543982 , 32333.7075774 ,\n",
       "       12476.0543982 , 25164.90105777, 25164.90105777, 25180.09903026,\n",
       "       32546.47919224, 12384.86656327, 25210.49497524, 17935.30264819,\n",
       "       25088.91119533, 25210.49497524, 32333.7075774 , 12476.0543982 ,\n",
       "       12476.0543982 , 25210.49497524, 17965.69859317, 17904.90670321,\n",
       "       25164.90105777, 32333.7075774 , 17980.89656565, 25210.49497524,\n",
       "       17874.51075823, 17935.30264819, 17980.89656565, 12476.0543982 ,\n",
       "       25210.49497524, 17965.69859317, 17965.69859317, 32333.7075774 ,\n",
       "       25210.49497524, 25164.90105777, 25210.49497524, 25104.10916782,\n",
       "       25210.49497524, 25210.49497524, 25210.49497524, 17935.30264819,\n",
       "       12476.0543982 , 32500.88527477, 19675.25686281, 12476.0543982 ,\n",
       "       25210.49497524, 17965.69859317, 32500.88527477, 17965.69859317,\n",
       "       17935.30264819, 12476.0543982 , 12384.86656327, 17935.30264819,\n",
       "       25210.49497524, 12384.86656327, 12384.86656327, 25180.09903026,\n",
       "       12476.0543982 , 17904.90670321, 17965.69859317, 12476.0543982 ,\n",
       "       17980.89656565, 25088.91119533, 32333.7075774 , 17935.30264819,\n",
       "       17980.89656565, 32333.7075774 , 25104.10916782, 25210.49497524,\n",
       "       32546.47919224, 17874.51075823, 32333.7075774 , 19675.25686281,\n",
       "       25058.51525035, 32333.7075774 , 12476.0543982 , 32546.47919224,\n",
       "       25210.49497524, 32500.88527477, 17980.89656565, 25210.49497524,\n",
       "       25210.49497524, 17935.30264819, 12384.86656327, 12476.0543982 ,\n",
       "       12415.26250825, 12476.0543982 ])"
      ]
     },
     "execution_count": 41,
     "metadata": {},
     "output_type": "execute_result"
    }
   ],
   "source": [
    "y_pred = regressor.predict(X_test_scaled)\n",
    "\n",
    "y_pred"
   ]
  },
  {
   "cell_type": "code",
   "execution_count": 42,
   "id": "7d62a8e0",
   "metadata": {},
   "outputs": [
    {
     "data": {
      "text/html": [
       "<div>\n",
       "<style scoped>\n",
       "    .dataframe tbody tr th:only-of-type {\n",
       "        vertical-align: middle;\n",
       "    }\n",
       "\n",
       "    .dataframe tbody tr th {\n",
       "        vertical-align: top;\n",
       "    }\n",
       "\n",
       "    .dataframe thead th {\n",
       "        text-align: right;\n",
       "    }\n",
       "</style>\n",
       "<table border=\"1\" class=\"dataframe\">\n",
       "  <thead>\n",
       "    <tr style=\"text-align: right;\">\n",
       "      <th></th>\n",
       "      <th>Actual</th>\n",
       "      <th>Predicted</th>\n",
       "    </tr>\n",
       "  </thead>\n",
       "  <tbody>\n",
       "    <tr>\n",
       "      <th>0</th>\n",
       "      <td>30353.585554</td>\n",
       "      <td>17935.302648</td>\n",
       "    </tr>\n",
       "    <tr>\n",
       "      <th>1</th>\n",
       "      <td>12878.046829</td>\n",
       "      <td>17965.698593</td>\n",
       "    </tr>\n",
       "    <tr>\n",
       "      <th>2</th>\n",
       "      <td>13494.288783</td>\n",
       "      <td>17965.698593</td>\n",
       "    </tr>\n",
       "    <tr>\n",
       "      <th>3</th>\n",
       "      <td>17586.928583</td>\n",
       "      <td>25210.494975</td>\n",
       "    </tr>\n",
       "    <tr>\n",
       "      <th>4</th>\n",
       "      <td>16027.286487</td>\n",
       "      <td>19675.256863</td>\n",
       "    </tr>\n",
       "    <tr>\n",
       "      <th>...</th>\n",
       "      <td>...</td>\n",
       "      <td>...</td>\n",
       "    </tr>\n",
       "    <tr>\n",
       "      <th>237</th>\n",
       "      <td>26789.832608</td>\n",
       "      <td>17935.302648</td>\n",
       "    </tr>\n",
       "    <tr>\n",
       "      <th>238</th>\n",
       "      <td>10921.945372</td>\n",
       "      <td>12384.866563</td>\n",
       "    </tr>\n",
       "    <tr>\n",
       "      <th>239</th>\n",
       "      <td>12487.054293</td>\n",
       "      <td>12476.054398</td>\n",
       "    </tr>\n",
       "    <tr>\n",
       "      <th>240</th>\n",
       "      <td>14398.922693</td>\n",
       "      <td>12415.262508</td>\n",
       "    </tr>\n",
       "    <tr>\n",
       "      <th>241</th>\n",
       "      <td>14841.917049</td>\n",
       "      <td>12476.054398</td>\n",
       "    </tr>\n",
       "  </tbody>\n",
       "</table>\n",
       "<p>242 rows × 2 columns</p>\n",
       "</div>"
      ],
      "text/plain": [
       "           Actual     Predicted\n",
       "0    30353.585554  17935.302648\n",
       "1    12878.046829  17965.698593\n",
       "2    13494.288783  17965.698593\n",
       "3    17586.928583  25210.494975\n",
       "4    16027.286487  19675.256863\n",
       "..            ...           ...\n",
       "237  26789.832608  17935.302648\n",
       "238  10921.945372  12384.866563\n",
       "239  12487.054293  12476.054398\n",
       "240  14398.922693  12415.262508\n",
       "241  14841.917049  12476.054398\n",
       "\n",
       "[242 rows x 2 columns]"
      ]
     },
     "execution_count": 42,
     "metadata": {},
     "output_type": "execute_result"
    }
   ],
   "source": [
    "df_ = pd.DataFrame({'Actual' : y_test, 'Predicted' : y_pred})\n",
    "\n",
    "df_"
   ]
  },
  {
   "cell_type": "markdown",
   "id": "9a3865a2",
   "metadata": {},
   "source": [
    "# Evaluation Metric"
   ]
  },
  {
   "cell_type": "code",
   "execution_count": 43,
   "id": "5427bd11",
   "metadata": {},
   "outputs": [
    {
     "name": "stdout",
     "output_type": "stream",
     "text": [
      "R2- SCORE: 0.36957340248926984\n"
     ]
    }
   ],
   "source": [
    "from sklearn import metrics  # importing the required metric to validate the model\n",
    "\n",
    "print('R2- SCORE:', metrics.r2_score(y_test,y_pred))"
   ]
  },
  {
   "cell_type": "markdown",
   "id": "95c14ede",
   "metadata": {},
   "source": [
    "# Part 3"
   ]
  },
  {
   "cell_type": "code",
   "execution_count": 44,
   "id": "ccc0bdbb",
   "metadata": {},
   "outputs": [
    {
     "data": {
      "text/html": [
       "<div>\n",
       "<style scoped>\n",
       "    .dataframe tbody tr th:only-of-type {\n",
       "        vertical-align: middle;\n",
       "    }\n",
       "\n",
       "    .dataframe tbody tr th {\n",
       "        vertical-align: top;\n",
       "    }\n",
       "\n",
       "    .dataframe thead th {\n",
       "        text-align: right;\n",
       "    }\n",
       "</style>\n",
       "<table border=\"1\" class=\"dataframe\">\n",
       "  <thead>\n",
       "    <tr style=\"text-align: right;\">\n",
       "      <th></th>\n",
       "      <th>Price</th>\n",
       "      <th>Mileage</th>\n",
       "      <th>Make</th>\n",
       "      <th>Model</th>\n",
       "      <th>Trim</th>\n",
       "      <th>Type</th>\n",
       "      <th>Cylinder</th>\n",
       "      <th>Liter</th>\n",
       "      <th>Doors</th>\n",
       "      <th>Cruise</th>\n",
       "      <th>Sound</th>\n",
       "      <th>Leather</th>\n",
       "    </tr>\n",
       "  </thead>\n",
       "  <tbody>\n",
       "    <tr>\n",
       "      <th>0</th>\n",
       "      <td>17314.103129</td>\n",
       "      <td>8221</td>\n",
       "      <td>Buick</td>\n",
       "      <td>Century</td>\n",
       "      <td>Sedan 4D</td>\n",
       "      <td>Sedan</td>\n",
       "      <td>6</td>\n",
       "      <td>3.1</td>\n",
       "      <td>4</td>\n",
       "      <td>1</td>\n",
       "      <td>1</td>\n",
       "      <td>1</td>\n",
       "    </tr>\n",
       "    <tr>\n",
       "      <th>1</th>\n",
       "      <td>17542.036083</td>\n",
       "      <td>9135</td>\n",
       "      <td>Buick</td>\n",
       "      <td>Century</td>\n",
       "      <td>Sedan 4D</td>\n",
       "      <td>Sedan</td>\n",
       "      <td>6</td>\n",
       "      <td>3.1</td>\n",
       "      <td>4</td>\n",
       "      <td>1</td>\n",
       "      <td>1</td>\n",
       "      <td>0</td>\n",
       "    </tr>\n",
       "    <tr>\n",
       "      <th>2</th>\n",
       "      <td>16218.847862</td>\n",
       "      <td>13196</td>\n",
       "      <td>Buick</td>\n",
       "      <td>Century</td>\n",
       "      <td>Sedan 4D</td>\n",
       "      <td>Sedan</td>\n",
       "      <td>6</td>\n",
       "      <td>3.1</td>\n",
       "      <td>4</td>\n",
       "      <td>1</td>\n",
       "      <td>1</td>\n",
       "      <td>0</td>\n",
       "    </tr>\n",
       "    <tr>\n",
       "      <th>3</th>\n",
       "      <td>16336.913140</td>\n",
       "      <td>16342</td>\n",
       "      <td>Buick</td>\n",
       "      <td>Century</td>\n",
       "      <td>Sedan 4D</td>\n",
       "      <td>Sedan</td>\n",
       "      <td>6</td>\n",
       "      <td>3.1</td>\n",
       "      <td>4</td>\n",
       "      <td>1</td>\n",
       "      <td>0</td>\n",
       "      <td>0</td>\n",
       "    </tr>\n",
       "    <tr>\n",
       "      <th>4</th>\n",
       "      <td>16339.170324</td>\n",
       "      <td>19832</td>\n",
       "      <td>Buick</td>\n",
       "      <td>Century</td>\n",
       "      <td>Sedan 4D</td>\n",
       "      <td>Sedan</td>\n",
       "      <td>6</td>\n",
       "      <td>3.1</td>\n",
       "      <td>4</td>\n",
       "      <td>1</td>\n",
       "      <td>0</td>\n",
       "      <td>1</td>\n",
       "    </tr>\n",
       "  </tbody>\n",
       "</table>\n",
       "</div>"
      ],
      "text/plain": [
       "          Price  Mileage   Make    Model      Trim   Type  Cylinder  Liter  \\\n",
       "0  17314.103129     8221  Buick  Century  Sedan 4D  Sedan         6    3.1   \n",
       "1  17542.036083     9135  Buick  Century  Sedan 4D  Sedan         6    3.1   \n",
       "2  16218.847862    13196  Buick  Century  Sedan 4D  Sedan         6    3.1   \n",
       "3  16336.913140    16342  Buick  Century  Sedan 4D  Sedan         6    3.1   \n",
       "4  16339.170324    19832  Buick  Century  Sedan 4D  Sedan         6    3.1   \n",
       "\n",
       "   Doors  Cruise  Sound  Leather  \n",
       "0      4       1      1        1  \n",
       "1      4       1      1        0  \n",
       "2      4       1      1        0  \n",
       "3      4       1      0        0  \n",
       "4      4       1      0        1  "
      ]
     },
     "execution_count": 44,
     "metadata": {},
     "output_type": "execute_result"
    }
   ],
   "source": [
    "df_ = pd.read_csv(\"car_data.csv\")  # reading the dataset\n",
    "\n",
    "df_.head()"
   ]
  },
  {
   "cell_type": "code",
   "execution_count": 45,
   "id": "856638cb",
   "metadata": {},
   "outputs": [
    {
     "data": {
      "text/html": [
       "<div>\n",
       "<style scoped>\n",
       "    .dataframe tbody tr th:only-of-type {\n",
       "        vertical-align: middle;\n",
       "    }\n",
       "\n",
       "    .dataframe tbody tr th {\n",
       "        vertical-align: top;\n",
       "    }\n",
       "\n",
       "    .dataframe thead th {\n",
       "        text-align: right;\n",
       "    }\n",
       "</style>\n",
       "<table border=\"1\" class=\"dataframe\">\n",
       "  <thead>\n",
       "    <tr style=\"text-align: right;\">\n",
       "      <th></th>\n",
       "      <th>Make_Buick</th>\n",
       "      <th>Make_Cadillac</th>\n",
       "      <th>Make_Chevrolet</th>\n",
       "      <th>Make_Pontiac</th>\n",
       "      <th>Make_SAAB</th>\n",
       "      <th>Make_Saturn</th>\n",
       "      <th>Model_9-2X AWD</th>\n",
       "      <th>Model_9_3</th>\n",
       "      <th>Model_9_3 HO</th>\n",
       "      <th>Model_9_5</th>\n",
       "      <th>...</th>\n",
       "      <th>Model_STS-V6</th>\n",
       "      <th>Model_STS-V8</th>\n",
       "      <th>Model_Sunfire</th>\n",
       "      <th>Model_Vibe</th>\n",
       "      <th>Model_XLR-V8</th>\n",
       "      <th>Type_Convertible</th>\n",
       "      <th>Type_Coupe</th>\n",
       "      <th>Type_Hatchback</th>\n",
       "      <th>Type_Sedan</th>\n",
       "      <th>Type_Wagon</th>\n",
       "    </tr>\n",
       "  </thead>\n",
       "  <tbody>\n",
       "    <tr>\n",
       "      <th>0</th>\n",
       "      <td>1</td>\n",
       "      <td>0</td>\n",
       "      <td>0</td>\n",
       "      <td>0</td>\n",
       "      <td>0</td>\n",
       "      <td>0</td>\n",
       "      <td>0</td>\n",
       "      <td>0</td>\n",
       "      <td>0</td>\n",
       "      <td>0</td>\n",
       "      <td>...</td>\n",
       "      <td>0</td>\n",
       "      <td>0</td>\n",
       "      <td>0</td>\n",
       "      <td>0</td>\n",
       "      <td>0</td>\n",
       "      <td>0</td>\n",
       "      <td>0</td>\n",
       "      <td>0</td>\n",
       "      <td>1</td>\n",
       "      <td>0</td>\n",
       "    </tr>\n",
       "    <tr>\n",
       "      <th>1</th>\n",
       "      <td>1</td>\n",
       "      <td>0</td>\n",
       "      <td>0</td>\n",
       "      <td>0</td>\n",
       "      <td>0</td>\n",
       "      <td>0</td>\n",
       "      <td>0</td>\n",
       "      <td>0</td>\n",
       "      <td>0</td>\n",
       "      <td>0</td>\n",
       "      <td>...</td>\n",
       "      <td>0</td>\n",
       "      <td>0</td>\n",
       "      <td>0</td>\n",
       "      <td>0</td>\n",
       "      <td>0</td>\n",
       "      <td>0</td>\n",
       "      <td>0</td>\n",
       "      <td>0</td>\n",
       "      <td>1</td>\n",
       "      <td>0</td>\n",
       "    </tr>\n",
       "    <tr>\n",
       "      <th>2</th>\n",
       "      <td>1</td>\n",
       "      <td>0</td>\n",
       "      <td>0</td>\n",
       "      <td>0</td>\n",
       "      <td>0</td>\n",
       "      <td>0</td>\n",
       "      <td>0</td>\n",
       "      <td>0</td>\n",
       "      <td>0</td>\n",
       "      <td>0</td>\n",
       "      <td>...</td>\n",
       "      <td>0</td>\n",
       "      <td>0</td>\n",
       "      <td>0</td>\n",
       "      <td>0</td>\n",
       "      <td>0</td>\n",
       "      <td>0</td>\n",
       "      <td>0</td>\n",
       "      <td>0</td>\n",
       "      <td>1</td>\n",
       "      <td>0</td>\n",
       "    </tr>\n",
       "    <tr>\n",
       "      <th>3</th>\n",
       "      <td>1</td>\n",
       "      <td>0</td>\n",
       "      <td>0</td>\n",
       "      <td>0</td>\n",
       "      <td>0</td>\n",
       "      <td>0</td>\n",
       "      <td>0</td>\n",
       "      <td>0</td>\n",
       "      <td>0</td>\n",
       "      <td>0</td>\n",
       "      <td>...</td>\n",
       "      <td>0</td>\n",
       "      <td>0</td>\n",
       "      <td>0</td>\n",
       "      <td>0</td>\n",
       "      <td>0</td>\n",
       "      <td>0</td>\n",
       "      <td>0</td>\n",
       "      <td>0</td>\n",
       "      <td>1</td>\n",
       "      <td>0</td>\n",
       "    </tr>\n",
       "    <tr>\n",
       "      <th>4</th>\n",
       "      <td>1</td>\n",
       "      <td>0</td>\n",
       "      <td>0</td>\n",
       "      <td>0</td>\n",
       "      <td>0</td>\n",
       "      <td>0</td>\n",
       "      <td>0</td>\n",
       "      <td>0</td>\n",
       "      <td>0</td>\n",
       "      <td>0</td>\n",
       "      <td>...</td>\n",
       "      <td>0</td>\n",
       "      <td>0</td>\n",
       "      <td>0</td>\n",
       "      <td>0</td>\n",
       "      <td>0</td>\n",
       "      <td>0</td>\n",
       "      <td>0</td>\n",
       "      <td>0</td>\n",
       "      <td>1</td>\n",
       "      <td>0</td>\n",
       "    </tr>\n",
       "  </tbody>\n",
       "</table>\n",
       "<p>5 rows × 43 columns</p>\n",
       "</div>"
      ],
      "text/plain": [
       "   Make_Buick  Make_Cadillac  Make_Chevrolet  Make_Pontiac  Make_SAAB  \\\n",
       "0           1              0               0             0          0   \n",
       "1           1              0               0             0          0   \n",
       "2           1              0               0             0          0   \n",
       "3           1              0               0             0          0   \n",
       "4           1              0               0             0          0   \n",
       "\n",
       "   Make_Saturn  Model_9-2X AWD  Model_9_3  Model_9_3 HO  Model_9_5  ...  \\\n",
       "0            0               0          0             0          0  ...   \n",
       "1            0               0          0             0          0  ...   \n",
       "2            0               0          0             0          0  ...   \n",
       "3            0               0          0             0          0  ...   \n",
       "4            0               0          0             0          0  ...   \n",
       "\n",
       "   Model_STS-V6  Model_STS-V8  Model_Sunfire  Model_Vibe  Model_XLR-V8  \\\n",
       "0             0             0              0           0             0   \n",
       "1             0             0              0           0             0   \n",
       "2             0             0              0           0             0   \n",
       "3             0             0              0           0             0   \n",
       "4             0             0              0           0             0   \n",
       "\n",
       "   Type_Convertible  Type_Coupe  Type_Hatchback  Type_Sedan  Type_Wagon  \n",
       "0                 0           0               0           1           0  \n",
       "1                 0           0               0           1           0  \n",
       "2                 0           0               0           1           0  \n",
       "3                 0           0               0           1           0  \n",
       "4                 0           0               0           1           0  \n",
       "\n",
       "[5 rows x 43 columns]"
      ]
     },
     "execution_count": 45,
     "metadata": {},
     "output_type": "execute_result"
    }
   ],
   "source": [
    "dummy=pd.get_dummies(df_[[\"Make\",\"Model\",\"Type\"]])\n",
    "\n",
    "dummy.head()"
   ]
  },
  {
   "cell_type": "code",
   "execution_count": 46,
   "id": "dadb2d5a",
   "metadata": {},
   "outputs": [
    {
     "data": {
      "text/html": [
       "<div>\n",
       "<style scoped>\n",
       "    .dataframe tbody tr th:only-of-type {\n",
       "        vertical-align: middle;\n",
       "    }\n",
       "\n",
       "    .dataframe tbody tr th {\n",
       "        vertical-align: top;\n",
       "    }\n",
       "\n",
       "    .dataframe thead th {\n",
       "        text-align: right;\n",
       "    }\n",
       "</style>\n",
       "<table border=\"1\" class=\"dataframe\">\n",
       "  <thead>\n",
       "    <tr style=\"text-align: right;\">\n",
       "      <th></th>\n",
       "      <th>Price</th>\n",
       "      <th>Make_Buick</th>\n",
       "      <th>Make_Cadillac</th>\n",
       "      <th>Make_Chevrolet</th>\n",
       "      <th>Make_Pontiac</th>\n",
       "      <th>Make_SAAB</th>\n",
       "      <th>Make_Saturn</th>\n",
       "      <th>Model_9-2X AWD</th>\n",
       "      <th>Model_9_3</th>\n",
       "      <th>Model_9_3 HO</th>\n",
       "      <th>...</th>\n",
       "      <th>Model_STS-V6</th>\n",
       "      <th>Model_STS-V8</th>\n",
       "      <th>Model_Sunfire</th>\n",
       "      <th>Model_Vibe</th>\n",
       "      <th>Model_XLR-V8</th>\n",
       "      <th>Type_Convertible</th>\n",
       "      <th>Type_Coupe</th>\n",
       "      <th>Type_Hatchback</th>\n",
       "      <th>Type_Sedan</th>\n",
       "      <th>Type_Wagon</th>\n",
       "    </tr>\n",
       "  </thead>\n",
       "  <tbody>\n",
       "    <tr>\n",
       "      <th>0</th>\n",
       "      <td>17314.103129</td>\n",
       "      <td>1</td>\n",
       "      <td>0</td>\n",
       "      <td>0</td>\n",
       "      <td>0</td>\n",
       "      <td>0</td>\n",
       "      <td>0</td>\n",
       "      <td>0</td>\n",
       "      <td>0</td>\n",
       "      <td>0</td>\n",
       "      <td>...</td>\n",
       "      <td>0</td>\n",
       "      <td>0</td>\n",
       "      <td>0</td>\n",
       "      <td>0</td>\n",
       "      <td>0</td>\n",
       "      <td>0</td>\n",
       "      <td>0</td>\n",
       "      <td>0</td>\n",
       "      <td>1</td>\n",
       "      <td>0</td>\n",
       "    </tr>\n",
       "    <tr>\n",
       "      <th>1</th>\n",
       "      <td>17542.036083</td>\n",
       "      <td>1</td>\n",
       "      <td>0</td>\n",
       "      <td>0</td>\n",
       "      <td>0</td>\n",
       "      <td>0</td>\n",
       "      <td>0</td>\n",
       "      <td>0</td>\n",
       "      <td>0</td>\n",
       "      <td>0</td>\n",
       "      <td>...</td>\n",
       "      <td>0</td>\n",
       "      <td>0</td>\n",
       "      <td>0</td>\n",
       "      <td>0</td>\n",
       "      <td>0</td>\n",
       "      <td>0</td>\n",
       "      <td>0</td>\n",
       "      <td>0</td>\n",
       "      <td>1</td>\n",
       "      <td>0</td>\n",
       "    </tr>\n",
       "    <tr>\n",
       "      <th>2</th>\n",
       "      <td>16218.847862</td>\n",
       "      <td>1</td>\n",
       "      <td>0</td>\n",
       "      <td>0</td>\n",
       "      <td>0</td>\n",
       "      <td>0</td>\n",
       "      <td>0</td>\n",
       "      <td>0</td>\n",
       "      <td>0</td>\n",
       "      <td>0</td>\n",
       "      <td>...</td>\n",
       "      <td>0</td>\n",
       "      <td>0</td>\n",
       "      <td>0</td>\n",
       "      <td>0</td>\n",
       "      <td>0</td>\n",
       "      <td>0</td>\n",
       "      <td>0</td>\n",
       "      <td>0</td>\n",
       "      <td>1</td>\n",
       "      <td>0</td>\n",
       "    </tr>\n",
       "    <tr>\n",
       "      <th>3</th>\n",
       "      <td>16336.913140</td>\n",
       "      <td>1</td>\n",
       "      <td>0</td>\n",
       "      <td>0</td>\n",
       "      <td>0</td>\n",
       "      <td>0</td>\n",
       "      <td>0</td>\n",
       "      <td>0</td>\n",
       "      <td>0</td>\n",
       "      <td>0</td>\n",
       "      <td>...</td>\n",
       "      <td>0</td>\n",
       "      <td>0</td>\n",
       "      <td>0</td>\n",
       "      <td>0</td>\n",
       "      <td>0</td>\n",
       "      <td>0</td>\n",
       "      <td>0</td>\n",
       "      <td>0</td>\n",
       "      <td>1</td>\n",
       "      <td>0</td>\n",
       "    </tr>\n",
       "    <tr>\n",
       "      <th>4</th>\n",
       "      <td>16339.170324</td>\n",
       "      <td>1</td>\n",
       "      <td>0</td>\n",
       "      <td>0</td>\n",
       "      <td>0</td>\n",
       "      <td>0</td>\n",
       "      <td>0</td>\n",
       "      <td>0</td>\n",
       "      <td>0</td>\n",
       "      <td>0</td>\n",
       "      <td>...</td>\n",
       "      <td>0</td>\n",
       "      <td>0</td>\n",
       "      <td>0</td>\n",
       "      <td>0</td>\n",
       "      <td>0</td>\n",
       "      <td>0</td>\n",
       "      <td>0</td>\n",
       "      <td>0</td>\n",
       "      <td>1</td>\n",
       "      <td>0</td>\n",
       "    </tr>\n",
       "  </tbody>\n",
       "</table>\n",
       "<p>5 rows × 44 columns</p>\n",
       "</div>"
      ],
      "text/plain": [
       "          Price  Make_Buick  Make_Cadillac  Make_Chevrolet  Make_Pontiac  \\\n",
       "0  17314.103129           1              0               0             0   \n",
       "1  17542.036083           1              0               0             0   \n",
       "2  16218.847862           1              0               0             0   \n",
       "3  16336.913140           1              0               0             0   \n",
       "4  16339.170324           1              0               0             0   \n",
       "\n",
       "   Make_SAAB  Make_Saturn  Model_9-2X AWD  Model_9_3  Model_9_3 HO  ...  \\\n",
       "0          0            0               0          0             0  ...   \n",
       "1          0            0               0          0             0  ...   \n",
       "2          0            0               0          0             0  ...   \n",
       "3          0            0               0          0             0  ...   \n",
       "4          0            0               0          0             0  ...   \n",
       "\n",
       "   Model_STS-V6  Model_STS-V8  Model_Sunfire  Model_Vibe  Model_XLR-V8  \\\n",
       "0             0             0              0           0             0   \n",
       "1             0             0              0           0             0   \n",
       "2             0             0              0           0             0   \n",
       "3             0             0              0           0             0   \n",
       "4             0             0              0           0             0   \n",
       "\n",
       "   Type_Convertible  Type_Coupe  Type_Hatchback  Type_Sedan  Type_Wagon  \n",
       "0                 0           0               0           1           0  \n",
       "1                 0           0               0           1           0  \n",
       "2                 0           0               0           1           0  \n",
       "3                 0           0               0           1           0  \n",
       "4                 0           0               0           1           0  \n",
       "\n",
       "[5 rows x 44 columns]"
      ]
     },
     "execution_count": 46,
     "metadata": {},
     "output_type": "execute_result"
    }
   ],
   "source": [
    "df_dummies=pd.concat([df_['Price'], dummy], axis=1)\n",
    "\n",
    "df_dummies.head()"
   ]
  },
  {
   "cell_type": "code",
   "execution_count": 47,
   "id": "6bdfe7eb",
   "metadata": {},
   "outputs": [
    {
     "data": {
      "text/html": [
       "<div>\n",
       "<style scoped>\n",
       "    .dataframe tbody tr th:only-of-type {\n",
       "        vertical-align: middle;\n",
       "    }\n",
       "\n",
       "    .dataframe tbody tr th {\n",
       "        vertical-align: top;\n",
       "    }\n",
       "\n",
       "    .dataframe thead th {\n",
       "        text-align: right;\n",
       "    }\n",
       "</style>\n",
       "<table border=\"1\" class=\"dataframe\">\n",
       "  <thead>\n",
       "    <tr style=\"text-align: right;\">\n",
       "      <th></th>\n",
       "      <th>Price</th>\n",
       "      <th>Mileage</th>\n",
       "      <th>Make</th>\n",
       "      <th>Model</th>\n",
       "      <th>Trim</th>\n",
       "      <th>Type</th>\n",
       "      <th>Cylinder</th>\n",
       "      <th>Liter</th>\n",
       "      <th>Doors</th>\n",
       "      <th>Cruise</th>\n",
       "      <th>Sound</th>\n",
       "      <th>Leather</th>\n",
       "    </tr>\n",
       "  </thead>\n",
       "  <tbody>\n",
       "    <tr>\n",
       "      <th>0</th>\n",
       "      <td>17314.103129</td>\n",
       "      <td>8221</td>\n",
       "      <td>0</td>\n",
       "      <td>10</td>\n",
       "      <td>44</td>\n",
       "      <td>3</td>\n",
       "      <td>6</td>\n",
       "      <td>3.1</td>\n",
       "      <td>4</td>\n",
       "      <td>1</td>\n",
       "      <td>1</td>\n",
       "      <td>1</td>\n",
       "    </tr>\n",
       "    <tr>\n",
       "      <th>1</th>\n",
       "      <td>17542.036083</td>\n",
       "      <td>9135</td>\n",
       "      <td>0</td>\n",
       "      <td>10</td>\n",
       "      <td>44</td>\n",
       "      <td>3</td>\n",
       "      <td>6</td>\n",
       "      <td>3.1</td>\n",
       "      <td>4</td>\n",
       "      <td>1</td>\n",
       "      <td>1</td>\n",
       "      <td>0</td>\n",
       "    </tr>\n",
       "    <tr>\n",
       "      <th>2</th>\n",
       "      <td>16218.847862</td>\n",
       "      <td>13196</td>\n",
       "      <td>0</td>\n",
       "      <td>10</td>\n",
       "      <td>44</td>\n",
       "      <td>3</td>\n",
       "      <td>6</td>\n",
       "      <td>3.1</td>\n",
       "      <td>4</td>\n",
       "      <td>1</td>\n",
       "      <td>1</td>\n",
       "      <td>0</td>\n",
       "    </tr>\n",
       "    <tr>\n",
       "      <th>3</th>\n",
       "      <td>16336.913140</td>\n",
       "      <td>16342</td>\n",
       "      <td>0</td>\n",
       "      <td>10</td>\n",
       "      <td>44</td>\n",
       "      <td>3</td>\n",
       "      <td>6</td>\n",
       "      <td>3.1</td>\n",
       "      <td>4</td>\n",
       "      <td>1</td>\n",
       "      <td>0</td>\n",
       "      <td>0</td>\n",
       "    </tr>\n",
       "    <tr>\n",
       "      <th>4</th>\n",
       "      <td>16339.170324</td>\n",
       "      <td>19832</td>\n",
       "      <td>0</td>\n",
       "      <td>10</td>\n",
       "      <td>44</td>\n",
       "      <td>3</td>\n",
       "      <td>6</td>\n",
       "      <td>3.1</td>\n",
       "      <td>4</td>\n",
       "      <td>1</td>\n",
       "      <td>0</td>\n",
       "      <td>1</td>\n",
       "    </tr>\n",
       "  </tbody>\n",
       "</table>\n",
       "</div>"
      ],
      "text/plain": [
       "          Price  Mileage  Make  Model  Trim  Type  Cylinder  Liter  Doors  \\\n",
       "0  17314.103129     8221     0     10    44     3         6    3.1      4   \n",
       "1  17542.036083     9135     0     10    44     3         6    3.1      4   \n",
       "2  16218.847862    13196     0     10    44     3         6    3.1      4   \n",
       "3  16336.913140    16342     0     10    44     3         6    3.1      4   \n",
       "4  16339.170324    19832     0     10    44     3         6    3.1      4   \n",
       "\n",
       "   Cruise  Sound  Leather  \n",
       "0       1      1        1  \n",
       "1       1      1        0  \n",
       "2       1      1        0  \n",
       "3       1      0        0  \n",
       "4       1      0        1  "
      ]
     },
     "execution_count": 47,
     "metadata": {},
     "output_type": "execute_result"
    }
   ],
   "source": [
    "# Import label encoder\n",
    "from sklearn import preprocessing\n",
    "  \n",
    "# label_encoder object knows how to understand word labels.\n",
    "label_encoder = preprocessing.LabelEncoder()\n",
    "for i in ['Make', 'Model', 'Trim', 'Type']:\n",
    "    df_[i] = label_encoder.fit_transform(df_[i])\n",
    "df_.head()"
   ]
  },
  {
   "cell_type": "code",
   "execution_count": 48,
   "id": "0e4ea15d",
   "metadata": {},
   "outputs": [],
   "source": [
    "Car_Features = list(df_.columns)[1:]\n",
    "\n",
    "X = df_.iloc[:,1:]\n",
    "\n",
    "Y = df_.Price"
   ]
  },
  {
   "cell_type": "code",
   "execution_count": 52,
   "id": "939b00fd",
   "metadata": {},
   "outputs": [
    {
     "name": "stdout",
     "output_type": "stream",
     "text": [
      "['Mileage', 'Make', 'Model', 'Trim', 'Cylinder', 'Cruise'] model_score = 0.4786472731305005\n"
     ]
    }
   ],
   "source": [
    "from sklearn.linear_model import LinearRegression\n",
    "\n",
    "Car_Features = list(df_.columns)[1:]\n",
    "Car_Price = [\"Price\"]\n",
    "X = df_.iloc[:,1:]\n",
    "Y = df_.Price\n",
    "from itertools import combinations\n",
    "from sklearn.preprocessing import PolynomialFeatures\n",
    "from sklearn.pipeline import Pipeline\n",
    "\n",
    "combos = []\n",
    "   \n",
    "for i in range(1, 7):\n",
    "    combos.append(combinations(Car_Features, i))\n",
    "\n",
    "\n",
    "\n",
    "check_score = 0\n",
    "for combin in combos:\n",
    "    for groupx in combin:\n",
    "        groupx = list(groupx)\n",
    "        x = df_[groupx]\n",
    "        \n",
    "        model = LinearRegression(fit_intercept=False)\n",
    "            \n",
    "        model = model.fit(x,Y)\n",
    "        model_score = model.score(x, Y)\n",
    "        if check_score < model.score(x, Y):\n",
    "            check_score = model.score(x, Y)\n",
    "            maxgroup = groupx\n",
    "            \n",
    "print(maxgroup, 'model_score =', check_score)"
   ]
  },
  {
   "cell_type": "code",
   "execution_count": null,
   "id": "97b98995",
   "metadata": {},
   "outputs": [],
   "source": []
  },
  {
   "cell_type": "code",
   "execution_count": null,
   "id": "efa262a7",
   "metadata": {},
   "outputs": [],
   "source": []
  },
  {
   "cell_type": "code",
   "execution_count": null,
   "id": "1f2b80f4",
   "metadata": {},
   "outputs": [],
   "source": []
  }
 ],
 "metadata": {
  "kernelspec": {
   "display_name": "Python 3 (ipykernel)",
   "language": "python",
   "name": "python3"
  },
  "language_info": {
   "codemirror_mode": {
    "name": "ipython",
    "version": 3
   },
   "file_extension": ".py",
   "mimetype": "text/x-python",
   "name": "python",
   "nbconvert_exporter": "python",
   "pygments_lexer": "ipython3",
   "version": "3.9.13"
  }
 },
 "nbformat": 4,
 "nbformat_minor": 5
}
