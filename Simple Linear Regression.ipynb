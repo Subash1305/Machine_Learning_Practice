{
 "cells": [
  {
   "cell_type": "markdown",
   "id": "d229afd6",
   "metadata": {},
   "source": [
    "# Simple_Linear Regression"
   ]
  },
  {
   "cell_type": "code",
   "execution_count": 1,
   "id": "8f091f1c",
   "metadata": {},
   "outputs": [],
   "source": [
    "# Importing Required Package\n",
    "\n",
    "import pandas as pd\n",
    "\n",
    "import numpy as np"
   ]
  },
  {
   "cell_type": "code",
   "execution_count": 2,
   "id": "dd592404",
   "metadata": {},
   "outputs": [
    {
     "data": {
      "text/html": [
       "<div>\n",
       "<style scoped>\n",
       "    .dataframe tbody tr th:only-of-type {\n",
       "        vertical-align: middle;\n",
       "    }\n",
       "\n",
       "    .dataframe tbody tr th {\n",
       "        vertical-align: top;\n",
       "    }\n",
       "\n",
       "    .dataframe thead th {\n",
       "        text-align: right;\n",
       "    }\n",
       "</style>\n",
       "<table border=\"1\" class=\"dataframe\">\n",
       "  <thead>\n",
       "    <tr style=\"text-align: right;\">\n",
       "      <th></th>\n",
       "      <th>Chirps</th>\n",
       "      <th>Ground_Temperature</th>\n",
       "    </tr>\n",
       "  </thead>\n",
       "  <tbody>\n",
       "    <tr>\n",
       "      <th>0</th>\n",
       "      <td>20.0</td>\n",
       "      <td>88.6</td>\n",
       "    </tr>\n",
       "    <tr>\n",
       "      <th>1</th>\n",
       "      <td>16.0</td>\n",
       "      <td>71.6</td>\n",
       "    </tr>\n",
       "    <tr>\n",
       "      <th>2</th>\n",
       "      <td>19.8</td>\n",
       "      <td>93.3</td>\n",
       "    </tr>\n",
       "    <tr>\n",
       "      <th>3</th>\n",
       "      <td>18.4</td>\n",
       "      <td>84.3</td>\n",
       "    </tr>\n",
       "    <tr>\n",
       "      <th>4</th>\n",
       "      <td>17.1</td>\n",
       "      <td>80.6</td>\n",
       "    </tr>\n",
       "  </tbody>\n",
       "</table>\n",
       "</div>"
      ],
      "text/plain": [
       "   Chirps  Ground_Temperature\n",
       "0    20.0                88.6\n",
       "1    16.0                71.6\n",
       "2    19.8                93.3\n",
       "3    18.4                84.3\n",
       "4    17.1                80.6"
      ]
     },
     "execution_count": 2,
     "metadata": {},
     "output_type": "execute_result"
    }
   ],
   "source": [
    "ground_cricket_data = {\"Chirps\": [20.0, 16.0, 19.8, 18.4, 17.1, 15.5, 14.7,\n",
    "                                         15.7, 15.4, 16.3, 15.0, 17.2, 16.0, 17.0,\n",
    "                                         14.4],\n",
    "                       \"Ground_Temperature\": [88.6, 71.6, 93.3, 84.3, 80.6, 75.2, 69.7,\n",
    "                                              71.6, 69.4, 83.3, 79.6, 82.6, 80.6, 83.5,\n",
    "                                              76.3]}\n",
    "\n",
    "df = pd.DataFrame(ground_cricket_data)   # Reading the Dataset\n",
    "\n",
    "df.head()"
   ]
  },
  {
   "cell_type": "code",
   "execution_count": 3,
   "id": "7d0170df",
   "metadata": {},
   "outputs": [
    {
     "data": {
      "text/plain": [
       "(15, 2)"
      ]
     },
     "execution_count": 3,
     "metadata": {},
     "output_type": "execute_result"
    }
   ],
   "source": [
    "df.shape"
   ]
  },
  {
   "cell_type": "markdown",
   "id": "ef6c8df6",
   "metadata": {},
   "source": [
    "# Preprocessing The Data"
   ]
  },
  {
   "cell_type": "code",
   "execution_count": 4,
   "id": "0374a07e",
   "metadata": {},
   "outputs": [
    {
     "data": {
      "text/plain": [
       "Chirps                0\n",
       "Ground_Temperature    0\n",
       "dtype: int64"
      ]
     },
     "execution_count": 4,
     "metadata": {},
     "output_type": "execute_result"
    }
   ],
   "source": [
    "df.isnull().sum()   # Checking for null values"
   ]
  },
  {
   "cell_type": "code",
   "execution_count": 5,
   "id": "01ec4257",
   "metadata": {},
   "outputs": [
    {
     "data": {
      "text/html": [
       "<div>\n",
       "<style scoped>\n",
       "    .dataframe tbody tr th:only-of-type {\n",
       "        vertical-align: middle;\n",
       "    }\n",
       "\n",
       "    .dataframe tbody tr th {\n",
       "        vertical-align: top;\n",
       "    }\n",
       "\n",
       "    .dataframe thead th {\n",
       "        text-align: right;\n",
       "    }\n",
       "</style>\n",
       "<table border=\"1\" class=\"dataframe\">\n",
       "  <thead>\n",
       "    <tr style=\"text-align: right;\">\n",
       "      <th></th>\n",
       "      <th>Chirps</th>\n",
       "      <th>Ground_Temperature</th>\n",
       "    </tr>\n",
       "  </thead>\n",
       "  <tbody>\n",
       "    <tr>\n",
       "      <th>count</th>\n",
       "      <td>15.000000</td>\n",
       "      <td>15.000000</td>\n",
       "    </tr>\n",
       "    <tr>\n",
       "      <th>mean</th>\n",
       "      <td>16.566667</td>\n",
       "      <td>79.346667</td>\n",
       "    </tr>\n",
       "    <tr>\n",
       "      <th>std</th>\n",
       "      <td>1.712837</td>\n",
       "      <td>7.020467</td>\n",
       "    </tr>\n",
       "    <tr>\n",
       "      <th>min</th>\n",
       "      <td>14.400000</td>\n",
       "      <td>69.400000</td>\n",
       "    </tr>\n",
       "    <tr>\n",
       "      <th>25%</th>\n",
       "      <td>15.450000</td>\n",
       "      <td>73.400000</td>\n",
       "    </tr>\n",
       "    <tr>\n",
       "      <th>50%</th>\n",
       "      <td>16.000000</td>\n",
       "      <td>80.600000</td>\n",
       "    </tr>\n",
       "    <tr>\n",
       "      <th>75%</th>\n",
       "      <td>17.150000</td>\n",
       "      <td>83.400000</td>\n",
       "    </tr>\n",
       "    <tr>\n",
       "      <th>max</th>\n",
       "      <td>20.000000</td>\n",
       "      <td>93.300000</td>\n",
       "    </tr>\n",
       "  </tbody>\n",
       "</table>\n",
       "</div>"
      ],
      "text/plain": [
       "          Chirps  Ground_Temperature\n",
       "count  15.000000           15.000000\n",
       "mean   16.566667           79.346667\n",
       "std     1.712837            7.020467\n",
       "min    14.400000           69.400000\n",
       "25%    15.450000           73.400000\n",
       "50%    16.000000           80.600000\n",
       "75%    17.150000           83.400000\n",
       "max    20.000000           93.300000"
      ]
     },
     "execution_count": 5,
     "metadata": {},
     "output_type": "execute_result"
    }
   ],
   "source": [
    "df.describe()"
   ]
  },
  {
   "cell_type": "code",
   "execution_count": 6,
   "id": "26bb99b9",
   "metadata": {},
   "outputs": [
    {
     "data": {
      "text/plain": [
       "(19.699999999999996, 12.9)"
      ]
     },
     "execution_count": 6,
     "metadata": {},
     "output_type": "execute_result"
    }
   ],
   "source": [
    "# Checking for Outliers\n",
    "\n",
    "iqr = df.Chirps.quantile(0.75) - df.Chirps.quantile(0.25)   #(q3 - q1)\n",
    "\n",
    "upper_threshold = df.Chirps.quantile(0.75) + (1.5 * iqr)    #(q3 - 1.5*iqr)\n",
    "\n",
    "lower_threshold = df.Chirps.quantile(0.25) - (1.5 * iqr)    #(q1 - 1.5*iqr))\n",
    "\n",
    "upper_threshold , lower_threshold"
   ]
  },
  {
   "cell_type": "code",
   "execution_count": 7,
   "id": "829e2fa8",
   "metadata": {},
   "outputs": [],
   "source": [
    "df.Chirps = df.Chirps.clip(12.9 , 19.69)   # Treating Outliers"
   ]
  },
  {
   "cell_type": "code",
   "execution_count": 8,
   "id": "ab36ad89",
   "metadata": {},
   "outputs": [
    {
     "data": {
      "text/plain": [
       "(15, 2)"
      ]
     },
     "execution_count": 8,
     "metadata": {},
     "output_type": "execute_result"
    }
   ],
   "source": [
    "# deleting the duplicates\n",
    "\n",
    "df = df.drop_duplicates()\n",
    "\n",
    "df.shape"
   ]
  },
  {
   "cell_type": "code",
   "execution_count": 9,
   "id": "a3d4752f",
   "metadata": {},
   "outputs": [
    {
     "data": {
      "text/plain": [
       "Chirps                float64\n",
       "Ground_Temperature    float64\n",
       "dtype: object"
      ]
     },
     "execution_count": 9,
     "metadata": {},
     "output_type": "execute_result"
    }
   ],
   "source": [
    "df.dtypes"
   ]
  },
  {
   "cell_type": "markdown",
   "id": "1f0d72c4",
   "metadata": {},
   "source": [
    "# EDA"
   ]
  },
  {
   "cell_type": "code",
   "execution_count": 10,
   "id": "d5ea3873",
   "metadata": {},
   "outputs": [
    {
     "data": {
      "image/png": "[encoded data removed]",
      "text/plain": [
       "<Figure size 640x480 with 1 Axes>"
      ]
     },
     "metadata": {},
     "output_type": "display_data"
    }
   ],
   "source": [
    "import matplotlib.pyplot as plt   # importing required package\n",
    "\n",
    "df.plot(x = 'Chirps' , y = 'Ground_Temperature' , style = 'o')\n",
    "\n",
    "plt.title('Chirps vs Ground_Temperature')\n",
    "\n",
    "plt.xlabel('Chirps / Second')\n",
    "\n",
    "plt.ylabel('Ground_Temperature')\n",
    "\n",
    "plt.show()"
   ]
  },
  {
   "cell_type": "markdown",
   "id": "33ffca2a",
   "metadata": {},
   "source": [
    "#  Is there any releation between fts and target - Yes\n",
    "#  Is there any Linear releation between fts and target - Yes\n",
    "#  NO Transformation is required"
   ]
  },
  {
   "cell_type": "code",
   "execution_count": 11,
   "id": "c841115d",
   "metadata": {},
   "outputs": [
    {
     "data": {
      "text/html": [
       "<div>\n",
       "<style scoped>\n",
       "    .dataframe tbody tr th:only-of-type {\n",
       "        vertical-align: middle;\n",
       "    }\n",
       "\n",
       "    .dataframe tbody tr th {\n",
       "        vertical-align: top;\n",
       "    }\n",
       "\n",
       "    .dataframe thead th {\n",
       "        text-align: right;\n",
       "    }\n",
       "</style>\n",
       "<table border=\"1\" class=\"dataframe\">\n",
       "  <thead>\n",
       "    <tr style=\"text-align: right;\">\n",
       "      <th></th>\n",
       "      <th>Chirps</th>\n",
       "      <th>Ground_Temperature</th>\n",
       "    </tr>\n",
       "  </thead>\n",
       "  <tbody>\n",
       "    <tr>\n",
       "      <th>Chirps</th>\n",
       "      <td>1.000000</td>\n",
       "      <td>0.834229</td>\n",
       "    </tr>\n",
       "    <tr>\n",
       "      <th>Ground_Temperature</th>\n",
       "      <td>0.834229</td>\n",
       "      <td>1.000000</td>\n",
       "    </tr>\n",
       "  </tbody>\n",
       "</table>\n",
       "</div>"
      ],
      "text/plain": [
       "                      Chirps  Ground_Temperature\n",
       "Chirps              1.000000            0.834229\n",
       "Ground_Temperature  0.834229            1.000000"
      ]
     },
     "execution_count": 11,
     "metadata": {},
     "output_type": "execute_result"
    }
   ],
   "source": [
    "df.corr() # it has high linear releation btw fts and target variable"
   ]
  },
  {
   "cell_type": "code",
   "execution_count": 12,
   "id": "6fd56fc3",
   "metadata": {},
   "outputs": [
    {
     "data": {
      "text/plain": [
       "array([88.6, 71.6, 93.3, 84.3, 80.6, 75.2, 69.7, 71.6, 69.4, 83.3, 79.6,\n",
       "       82.6, 80.6, 83.5, 76.3])"
      ]
     },
     "execution_count": 12,
     "metadata": {},
     "output_type": "execute_result"
    }
   ],
   "source": [
    "df.Ground_Temperature.values"
   ]
  },
  {
   "cell_type": "markdown",
   "id": "d5b38353",
   "metadata": {},
   "source": [
    "# There is no categorical data so, no need to encode the data"
   ]
  },
  {
   "cell_type": "code",
   "execution_count": 13,
   "id": "bdfe30eb",
   "metadata": {},
   "outputs": [],
   "source": [
    "# Train and Split the data\n",
    "\n",
    "X = df.loc[ : ,['Chirps']].values  # select all rows and select chirps column as my feature\n",
    "\n",
    "y = df.loc[ : , 'Ground_Temperature'].values  # target variable as array\n",
    "\n",
    "from sklearn.model_selection import train_test_split  # import required package to train and split\n",
    "\n",
    "X_train, X_test, y_train, y_test = train_test_split(X, y, test_size=0.3)"
   ]
  },
  {
   "cell_type": "code",
   "execution_count": 14,
   "id": "f2e4e80c",
   "metadata": {},
   "outputs": [
    {
     "data": {
      "text/plain": [
       "((10, 1), (5, 1))"
      ]
     },
     "execution_count": 14,
     "metadata": {},
     "output_type": "execute_result"
    }
   ],
   "source": [
    "X_train.shape , X_test.shape"
   ]
  },
  {
   "cell_type": "markdown",
   "id": "bb6175b5",
   "metadata": {},
   "source": [
    "# Normalising / Scaling The Dataset"
   ]
  },
  {
   "cell_type": "code",
   "execution_count": 15,
   "id": "542d9d36",
   "metadata": {},
   "outputs": [
    {
     "data": {
      "text/plain": [
       "(array([[-0.01678599],\n",
       "        [ 0.9903735 ],\n",
       "        [ 1.997533  ],\n",
       "        [-0.26857586],\n",
       "        [-1.35966532],\n",
       "        [-0.85608557],\n",
       "        [-0.52036574],\n",
       "        [-1.10787544],\n",
       "        [ 0.90644354],\n",
       "        [ 0.23500388]]),\n",
       " array([[ 0.82251359],\n",
       "        [-0.43643578],\n",
       "        [ 3.08022945],\n",
       "        [-0.01678599],\n",
       "        [ 3.08022945]]))"
      ]
     },
     "execution_count": 15,
     "metadata": {},
     "output_type": "execute_result"
    }
   ],
   "source": [
    "from sklearn.preprocessing import StandardScaler  # importing required package\n",
    "\n",
    "scaler = StandardScaler()\n",
    "\n",
    "scaler.fit(X_train) # find the values of muu and sigma\n",
    "\n",
    "X_train = scaler.transform(X_train)\n",
    "\n",
    "X_test = scaler.transform(X_test)  # only transform the X_test and don't fit the test data\n",
    "\n",
    "X_train , X_test"
   ]
  },
  {
   "cell_type": "markdown",
   "id": "24abdf53",
   "metadata": {},
   "source": [
    "# Modeling the data"
   ]
  },
  {
   "cell_type": "code",
   "execution_count": 16,
   "id": "7a436ef8",
   "metadata": {},
   "outputs": [],
   "source": [
    "# model for simple linear regression \n",
    "\n",
    "# y(Ground_Temperature) = (m * Chirps) + c"
   ]
  },
  {
   "cell_type": "code",
   "execution_count": 17,
   "id": "37a78372",
   "metadata": {},
   "outputs": [
    {
     "data": {
      "text/plain": [
       "LinearRegression()"
      ]
     },
     "execution_count": 17,
     "metadata": {},
     "output_type": "execute_result"
    }
   ],
   "source": [
    "from sklearn.linear_model import LinearRegression  # importing the required package\n",
    "\n",
    "regressor = LinearRegression()  # y = (m * x) + c\n",
    "\n",
    "regressor.fit(X_train , y_train)  # learning happens like gradient descent and get final values of m and c\n"
   ]
  },
  {
   "cell_type": "code",
   "execution_count": 18,
   "id": "0914af94",
   "metadata": {},
   "outputs": [
    {
     "data": {
      "text/plain": [
       "77.8"
      ]
     },
     "execution_count": 18,
     "metadata": {},
     "output_type": "execute_result"
    }
   ],
   "source": [
    "regressor.intercept_  # C"
   ]
  },
  {
   "cell_type": "code",
   "execution_count": 19,
   "id": "9999c21d",
   "metadata": {},
   "outputs": [
    {
     "data": {
      "text/plain": [
       "array([3.70298974])"
      ]
     },
     "execution_count": 19,
     "metadata": {},
     "output_type": "execute_result"
    }
   ],
   "source": [
    "regressor.coef_  # slpoe - m"
   ]
  },
  {
   "cell_type": "code",
   "execution_count": 30,
   "id": "7bb90cc5",
   "metadata": {},
   "outputs": [
    {
     "data": {
      "text/plain": [
       "array([148.15680501])"
      ]
     },
     "execution_count": 30,
     "metadata": {},
     "output_type": "execute_result"
    }
   ],
   "source": [
    "regressor.predict([[19]])"
   ]
  },
  {
   "cell_type": "code",
   "execution_count": 21,
   "id": "485043ea",
   "metadata": {},
   "outputs": [
    {
     "data": {
      "text/plain": [
       "array([80.84575937, 76.18388278, 89.20605804, 77.73784165, 89.20605804])"
      ]
     },
     "execution_count": 21,
     "metadata": {},
     "output_type": "execute_result"
    }
   ],
   "source": [
    "y_pred = regressor.predict(X_test)\n",
    "\n",
    "y_pred"
   ]
  },
  {
   "cell_type": "code",
   "execution_count": 24,
   "id": "57347805",
   "metadata": {},
   "outputs": [
    {
     "data": {
      "text/html": [
       "<div>\n",
       "<style scoped>\n",
       "    .dataframe tbody tr th:only-of-type {\n",
       "        vertical-align: middle;\n",
       "    }\n",
       "\n",
       "    .dataframe tbody tr th {\n",
       "        vertical-align: top;\n",
       "    }\n",
       "\n",
       "    .dataframe thead th {\n",
       "        text-align: right;\n",
       "    }\n",
       "</style>\n",
       "<table border=\"1\" class=\"dataframe\">\n",
       "  <thead>\n",
       "    <tr style=\"text-align: right;\">\n",
       "      <th></th>\n",
       "      <th>Actual</th>\n",
       "      <th>Predicted</th>\n",
       "    </tr>\n",
       "  </thead>\n",
       "  <tbody>\n",
       "    <tr>\n",
       "      <th>0</th>\n",
       "      <td>83.5</td>\n",
       "      <td>80.845759</td>\n",
       "    </tr>\n",
       "    <tr>\n",
       "      <th>1</th>\n",
       "      <td>75.2</td>\n",
       "      <td>76.183883</td>\n",
       "    </tr>\n",
       "    <tr>\n",
       "      <th>2</th>\n",
       "      <td>93.3</td>\n",
       "      <td>89.206058</td>\n",
       "    </tr>\n",
       "    <tr>\n",
       "      <th>3</th>\n",
       "      <td>71.6</td>\n",
       "      <td>77.737842</td>\n",
       "    </tr>\n",
       "    <tr>\n",
       "      <th>4</th>\n",
       "      <td>88.6</td>\n",
       "      <td>89.206058</td>\n",
       "    </tr>\n",
       "  </tbody>\n",
       "</table>\n",
       "</div>"
      ],
      "text/plain": [
       "   Actual  Predicted\n",
       "0    83.5  80.845759\n",
       "1    75.2  76.183883\n",
       "2    93.3  89.206058\n",
       "3    71.6  77.737842\n",
       "4    88.6  89.206058"
      ]
     },
     "execution_count": 24,
     "metadata": {},
     "output_type": "execute_result"
    }
   ],
   "source": [
    "df_1 = pd.DataFrame({'Actual': y_test , 'Predicted' : y_pred})\n",
    "\n",
    "df_1"
   ]
  },
  {
   "cell_type": "code",
   "execution_count": 26,
   "id": "55a25f50",
   "metadata": {},
   "outputs": [
    {
     "data": {
      "text/plain": [
       "array([122.23587685])"
      ]
     },
     "execution_count": 26,
     "metadata": {},
     "output_type": "execute_result"
    }
   ],
   "source": [
    "regressor.predict([[12]])"
   ]
  },
  {
   "cell_type": "markdown",
   "id": "1ac8aa38",
   "metadata": {},
   "source": [
    "# Evaluation Metric"
   ]
  },
  {
   "cell_type": "code",
   "execution_count": 27,
   "id": "8e1ba223",
   "metadata": {},
   "outputs": [
    {
     "name": "stdout",
     "output_type": "stream",
     "text": [
      "R2_Score: 0.8078689580268621\n"
     ]
    }
   ],
   "source": [
    "from sklearn import metrics  # importing the required package\n",
    "\n",
    "print('R2_Score:' , metrics.r2_score(y_test , y_pred))"
   ]
  },
  {
   "cell_type": "code",
   "execution_count": 29,
   "id": "55ae81d0",
   "metadata": {},
   "outputs": [
    {
     "data": {
      "text/plain": [
       "0.8078689580268621"
      ]
     },
     "execution_count": 29,
     "metadata": {},
     "output_type": "execute_result"
    }
   ],
   "source": [
    "regressor.score(X_test , y_test)"
   ]
  }
 ],
 "metadata": {
  "kernelspec": {
   "display_name": "Python 3 (ipykernel)",
   "language": "python",
   "name": "python3"
  },
  "language_info": {
   "codemirror_mode": {
    "name": "ipython",
    "version": 3
   },
   "file_extension": ".py",
   "mimetype": "text/x-python",
   "name": "python",
   "nbconvert_exporter": "python",
   "pygments_lexer": "ipython3",
   "version": "3.9.13"
  }
 },
 "nbformat": 4,
 "nbformat_minor": 5
}
